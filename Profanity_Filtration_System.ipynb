{
 "cells": [
  {
   "cell_type": "code",
   "execution_count": 1,
   "id": "cd0c7b39",
   "metadata": {},
   "outputs": [
    {
     "name": "stderr",
     "output_type": "stream",
     "text": [
      "\n",
      "Bad key figure.hooks in file /usr/share/matplotlib/mpl-data/matplotlibrc, line 106 ('figure.hooks:          # list of dotted.module.name:dotted.callable.name')\n",
      "You probably need to get an updated matplotlibrc file from\n",
      "https://github.com/matplotlib/matplotlib/blob/v3.6.3/matplotlibrc.template\n",
      "or from the matplotlib source distribution\n",
      "\n",
      "Bad key mathtext.bfit in file /usr/share/matplotlib/mpl-data/matplotlibrc, line 343 ('mathtext.bfit: sans:italic:bold')\n",
      "You probably need to get an updated matplotlibrc file from\n",
      "https://github.com/matplotlib/matplotlib/blob/v3.6.3/matplotlibrc.template\n",
      "or from the matplotlib source distribution\n",
      "\n",
      "Bad key axes3d.xaxis.panecolor in file /usr/share/matplotlib/mpl-data/matplotlibrc, line 431 ('axes3d.xaxis.panecolor:    (0.95, 0.95, 0.95, 0.5)  # background pane on 3D axes')\n",
      "You probably need to get an updated matplotlibrc file from\n",
      "https://github.com/matplotlib/matplotlib/blob/v3.6.3/matplotlibrc.template\n",
      "or from the matplotlib source distribution\n",
      "\n",
      "Bad key axes3d.yaxis.panecolor in file /usr/share/matplotlib/mpl-data/matplotlibrc, line 432 ('axes3d.yaxis.panecolor:    (0.90, 0.90, 0.90, 0.5)  # background pane on 3D axes')\n",
      "You probably need to get an updated matplotlibrc file from\n",
      "https://github.com/matplotlib/matplotlib/blob/v3.6.3/matplotlibrc.template\n",
      "or from the matplotlib source distribution\n",
      "\n",
      "Bad key axes3d.zaxis.panecolor in file /usr/share/matplotlib/mpl-data/matplotlibrc, line 433 ('axes3d.zaxis.panecolor:    (0.925, 0.925, 0.925, 0.5)  # background pane on 3D axes')\n",
      "You probably need to get an updated matplotlibrc file from\n",
      "https://github.com/matplotlib/matplotlib/blob/v3.6.3/matplotlibrc.template\n",
      "or from the matplotlib source distribution\n",
      "\n",
      "Bad key xtick.minor.ndivs in file /usr/share/matplotlib/mpl-data/matplotlibrc, line 492 ('xtick.minor.ndivs:   auto    # number of minor ticks between the major ticks on x-axis')\n",
      "You probably need to get an updated matplotlibrc file from\n",
      "https://github.com/matplotlib/matplotlib/blob/v3.6.3/matplotlibrc.template\n",
      "or from the matplotlib source distribution\n",
      "\n",
      "Bad key ytick.minor.ndivs in file /usr/share/matplotlib/mpl-data/matplotlibrc, line 514 ('ytick.minor.ndivs:   auto    # number of minor ticks between the major ticks on y-axis')\n",
      "You probably need to get an updated matplotlibrc file from\n",
      "https://github.com/matplotlib/matplotlib/blob/v3.6.3/matplotlibrc.template\n",
      "or from the matplotlib source distribution\n",
      "\n",
      "Bad key macosx.window_mode in file /usr/share/matplotlib/mpl-data/matplotlibrc, line 705 ('macosx.window_mode : system   # How to open new figures (system, tab, window)')\n",
      "You probably need to get an updated matplotlibrc file from\n",
      "https://github.com/matplotlib/matplotlib/blob/v3.6.3/matplotlibrc.template\n",
      "or from the matplotlib source distribution\n"
     ]
    }
   ],
   "source": [
    "'''\n",
    "Chat Dataset:\n",
    "\n",
    "    https://huggingface.co/datasets/google/Synthetic-Persona-Chat/tree/main/data\n",
    "    \n",
    "    The dataset contains \n",
    "        \n",
    "                        'user 1 personas' & 'user 2 personas' and 'Best Generated Conversation' \n",
    "                        \n",
    "    here,  'user 1 personas' & 'user 2 personas' include a persona-based conversational dataset, consisting of two \n",
    "    parts. The first part, consisting of 4,723 personas and 10,906 conversations. 'Best Generated Conversation' \n",
    "    contains synthetc conversation \n",
    "    \n",
    "    More about that ---> https://arxiv.org/abs/2312.10007\n",
    "    \n",
    "Profanity Dataset: \n",
    "\n",
    "    https://github.com/zacanger/profane-words/blob/master/words.json\n",
    "    \n",
    "'''\n",
    "\n",
    "import numpy as np\n",
    "import pandas as pd\n",
    "import matplotlib.pyplot as plt"
   ]
  },
  {
   "cell_type": "code",
   "execution_count": 2,
   "id": "20afd686",
   "metadata": {},
   "outputs": [
    {
     "data": {
      "text/html": [
       "<div>\n",
       "<style scoped>\n",
       "    .dataframe tbody tr th:only-of-type {\n",
       "        vertical-align: middle;\n",
       "    }\n",
       "\n",
       "    .dataframe tbody tr th {\n",
       "        vertical-align: top;\n",
       "    }\n",
       "\n",
       "    .dataframe thead th {\n",
       "        text-align: right;\n",
       "    }\n",
       "</style>\n",
       "<table border=\"1\" class=\"dataframe\">\n",
       "  <thead>\n",
       "    <tr style=\"text-align: right;\">\n",
       "      <th></th>\n",
       "      <th>user 1 personas</th>\n",
       "      <th>user 2 personas</th>\n",
       "      <th>Best Generated Conversation</th>\n",
       "    </tr>\n",
       "  </thead>\n",
       "  <tbody>\n",
       "    <tr>\n",
       "      <th>0</th>\n",
       "      <td>I'm moving to a new city to pursue my culinary...</td>\n",
       "      <td>I am comfortable with the weather, and enjoy s...</td>\n",
       "      <td>User 1: Hi! How are you?\\nUser 2: Good, thanks...</td>\n",
       "    </tr>\n",
       "    <tr>\n",
       "      <th>1</th>\n",
       "      <td>I used my artistic skills to teach children ho...</td>\n",
       "      <td>I like to run and do yoga in my spare time.\\nM...</td>\n",
       "      <td>User 1: Hey how are you doing?\\nUser 2: Doing ...</td>\n",
       "    </tr>\n",
       "    <tr>\n",
       "      <th>2</th>\n",
       "      <td>I enjoy spending time with my pets, and I love...</td>\n",
       "      <td>I am close to my mother and love to spend time...</td>\n",
       "      <td>User 1: Hello there, how are you doing today?\\...</td>\n",
       "    </tr>\n",
       "    <tr>\n",
       "      <th>3</th>\n",
       "      <td>My cupcake business keeps me busy, but I also ...</td>\n",
       "      <td>I collect memories and seashells from my trave...</td>\n",
       "      <td>User 1: hi there!\\nUser 2: Hey! How's your day...</td>\n",
       "    </tr>\n",
       "    <tr>\n",
       "      <th>4</th>\n",
       "      <td>The weather is perfect for cheering!\\ni listen...</td>\n",
       "      <td>I had to move across country for my job.\\nI go...</td>\n",
       "      <td>User 1: How is your day going?\\nUser 2: Great!...</td>\n",
       "    </tr>\n",
       "    <tr>\n",
       "      <th>...</th>\n",
       "      <td>...</td>\n",
       "      <td>...</td>\n",
       "      <td>...</td>\n",
       "    </tr>\n",
       "    <tr>\n",
       "      <th>10996</th>\n",
       "      <td>I've never been in a relationship, but I'm not...</td>\n",
       "      <td>I recall spending long hours in the woods with...</td>\n",
       "      <td>User 1: Hi there, what's up?\\nUser 2: Nothing ...</td>\n",
       "    </tr>\n",
       "    <tr>\n",
       "      <th>10997</th>\n",
       "      <td>I'm not rich, but I'm passionate about my writ...</td>\n",
       "      <td>I love to play with my cat Mater when I have f...</td>\n",
       "      <td>User 1: Hey, what are you up to today?\\nUser 2...</td>\n",
       "    </tr>\n",
       "    <tr>\n",
       "      <th>10998</th>\n",
       "      <td>I am afraid to tell my parents how I feel abou...</td>\n",
       "      <td>I'm learning to swim and I'm doing my best.\\ni...</td>\n",
       "      <td>User 1: Hi there, how are you?\\nUser 2: Hello,...</td>\n",
       "    </tr>\n",
       "    <tr>\n",
       "      <th>10999</th>\n",
       "      <td>My biggest fear is that something will happen ...</td>\n",
       "      <td>My family encourages me to eat healthy foods a...</td>\n",
       "      <td>User 1: Hi there!\\nUser 2: Hey!\\nUser 1: How a...</td>\n",
       "    </tr>\n",
       "    <tr>\n",
       "      <th>11000</th>\n",
       "      <td>I like to pamper myself.\\nI like to go hiking ...</td>\n",
       "      <td>I spend time with my book club and read books ...</td>\n",
       "      <td>User 1: Hello, how are you?\\nUser 2: I'm doing...</td>\n",
       "    </tr>\n",
       "  </tbody>\n",
       "</table>\n",
       "<p>11001 rows × 3 columns</p>\n",
       "</div>"
      ],
      "text/plain": [
       "                                         user 1 personas  \\\n",
       "0      I'm moving to a new city to pursue my culinary...   \n",
       "1      I used my artistic skills to teach children ho...   \n",
       "2      I enjoy spending time with my pets, and I love...   \n",
       "3      My cupcake business keeps me busy, but I also ...   \n",
       "4      The weather is perfect for cheering!\\ni listen...   \n",
       "...                                                  ...   \n",
       "10996  I've never been in a relationship, but I'm not...   \n",
       "10997  I'm not rich, but I'm passionate about my writ...   \n",
       "10998  I am afraid to tell my parents how I feel abou...   \n",
       "10999  My biggest fear is that something will happen ...   \n",
       "11000  I like to pamper myself.\\nI like to go hiking ...   \n",
       "\n",
       "                                         user 2 personas  \\\n",
       "0      I am comfortable with the weather, and enjoy s...   \n",
       "1      I like to run and do yoga in my spare time.\\nM...   \n",
       "2      I am close to my mother and love to spend time...   \n",
       "3      I collect memories and seashells from my trave...   \n",
       "4      I had to move across country for my job.\\nI go...   \n",
       "...                                                  ...   \n",
       "10996  I recall spending long hours in the woods with...   \n",
       "10997  I love to play with my cat Mater when I have f...   \n",
       "10998  I'm learning to swim and I'm doing my best.\\ni...   \n",
       "10999  My family encourages me to eat healthy foods a...   \n",
       "11000  I spend time with my book club and read books ...   \n",
       "\n",
       "                             Best Generated Conversation  \n",
       "0      User 1: Hi! How are you?\\nUser 2: Good, thanks...  \n",
       "1      User 1: Hey how are you doing?\\nUser 2: Doing ...  \n",
       "2      User 1: Hello there, how are you doing today?\\...  \n",
       "3      User 1: hi there!\\nUser 2: Hey! How's your day...  \n",
       "4      User 1: How is your day going?\\nUser 2: Great!...  \n",
       "...                                                  ...  \n",
       "10996  User 1: Hi there, what's up?\\nUser 2: Nothing ...  \n",
       "10997  User 1: Hey, what are you up to today?\\nUser 2...  \n",
       "10998  User 1: Hi there, how are you?\\nUser 2: Hello,...  \n",
       "10999  User 1: Hi there!\\nUser 2: Hey!\\nUser 1: How a...  \n",
       "11000  User 1: Hello, how are you?\\nUser 2: I'm doing...  \n",
       "\n",
       "[11001 rows x 3 columns]"
      ]
     },
     "execution_count": 2,
     "metadata": {},
     "output_type": "execute_result"
    }
   ],
   "source": [
    "df = pd.read_csv('chat.csv')\n",
    "df"
   ]
  },
  {
   "cell_type": "code",
   "execution_count": 3,
   "id": "a2504eed",
   "metadata": {},
   "outputs": [
    {
     "data": {
      "text/html": [
       "<div>\n",
       "<style scoped>\n",
       "    .dataframe tbody tr th:only-of-type {\n",
       "        vertical-align: middle;\n",
       "    }\n",
       "\n",
       "    .dataframe tbody tr th {\n",
       "        vertical-align: top;\n",
       "    }\n",
       "\n",
       "    .dataframe thead th {\n",
       "        text-align: right;\n",
       "    }\n",
       "</style>\n",
       "<table border=\"1\" class=\"dataframe\">\n",
       "  <thead>\n",
       "    <tr style=\"text-align: right;\">\n",
       "      <th></th>\n",
       "      <th>Best Generated Conversation</th>\n",
       "    </tr>\n",
       "  </thead>\n",
       "  <tbody>\n",
       "    <tr>\n",
       "      <th>0</th>\n",
       "      <td>User 1: Hi! How are you?\\nUser 2: Good, thanks...</td>\n",
       "    </tr>\n",
       "    <tr>\n",
       "      <th>1</th>\n",
       "      <td>User 1: Hey how are you doing?\\nUser 2: Doing ...</td>\n",
       "    </tr>\n",
       "    <tr>\n",
       "      <th>2</th>\n",
       "      <td>User 1: Hello there, how are you doing today?\\...</td>\n",
       "    </tr>\n",
       "    <tr>\n",
       "      <th>3</th>\n",
       "      <td>User 1: hi there!\\nUser 2: Hey! How's your day...</td>\n",
       "    </tr>\n",
       "    <tr>\n",
       "      <th>4</th>\n",
       "      <td>User 1: How is your day going?\\nUser 2: Great!...</td>\n",
       "    </tr>\n",
       "    <tr>\n",
       "      <th>...</th>\n",
       "      <td>...</td>\n",
       "    </tr>\n",
       "    <tr>\n",
       "      <th>10996</th>\n",
       "      <td>User 1: Hi there, what's up?\\nUser 2: Nothing ...</td>\n",
       "    </tr>\n",
       "    <tr>\n",
       "      <th>10997</th>\n",
       "      <td>User 1: Hey, what are you up to today?\\nUser 2...</td>\n",
       "    </tr>\n",
       "    <tr>\n",
       "      <th>10998</th>\n",
       "      <td>User 1: Hi there, how are you?\\nUser 2: Hello,...</td>\n",
       "    </tr>\n",
       "    <tr>\n",
       "      <th>10999</th>\n",
       "      <td>User 1: Hi there!\\nUser 2: Hey!\\nUser 1: How a...</td>\n",
       "    </tr>\n",
       "    <tr>\n",
       "      <th>11000</th>\n",
       "      <td>User 1: Hello, how are you?\\nUser 2: I'm doing...</td>\n",
       "    </tr>\n",
       "  </tbody>\n",
       "</table>\n",
       "<p>11001 rows × 1 columns</p>\n",
       "</div>"
      ],
      "text/plain": [
       "                             Best Generated Conversation\n",
       "0      User 1: Hi! How are you?\\nUser 2: Good, thanks...\n",
       "1      User 1: Hey how are you doing?\\nUser 2: Doing ...\n",
       "2      User 1: Hello there, how are you doing today?\\...\n",
       "3      User 1: hi there!\\nUser 2: Hey! How's your day...\n",
       "4      User 1: How is your day going?\\nUser 2: Great!...\n",
       "...                                                  ...\n",
       "10996  User 1: Hi there, what's up?\\nUser 2: Nothing ...\n",
       "10997  User 1: Hey, what are you up to today?\\nUser 2...\n",
       "10998  User 1: Hi there, how are you?\\nUser 2: Hello,...\n",
       "10999  User 1: Hi there!\\nUser 2: Hey!\\nUser 1: How a...\n",
       "11000  User 1: Hello, how are you?\\nUser 2: I'm doing...\n",
       "\n",
       "[11001 rows x 1 columns]"
      ]
     },
     "execution_count": 3,
     "metadata": {},
     "output_type": "execute_result"
    }
   ],
   "source": [
    "'''\n",
    "here 'user 1 personas', 'user 2 personas' is not neded so dropping it and 'Best Generated Conversation' is renamed \n",
    "to chat\n",
    "'''\n",
    "\n",
    "df.drop(columns=['user 1 personas', 'user 2 personas'],inplace=True)\n",
    "df"
   ]
  },
  {
   "cell_type": "code",
   "execution_count": 4,
   "id": "7f4f85ba",
   "metadata": {},
   "outputs": [
    {
     "data": {
      "text/html": [
       "<div>\n",
       "<style scoped>\n",
       "    .dataframe tbody tr th:only-of-type {\n",
       "        vertical-align: middle;\n",
       "    }\n",
       "\n",
       "    .dataframe tbody tr th {\n",
       "        vertical-align: top;\n",
       "    }\n",
       "\n",
       "    .dataframe thead th {\n",
       "        text-align: right;\n",
       "    }\n",
       "</style>\n",
       "<table border=\"1\" class=\"dataframe\">\n",
       "  <thead>\n",
       "    <tr style=\"text-align: right;\">\n",
       "      <th></th>\n",
       "      <th>chat</th>\n",
       "    </tr>\n",
       "  </thead>\n",
       "  <tbody>\n",
       "    <tr>\n",
       "      <th>0</th>\n",
       "      <td>User 1: Hi! How are you?\\nUser 2: Good, thanks...</td>\n",
       "    </tr>\n",
       "    <tr>\n",
       "      <th>1</th>\n",
       "      <td>User 1: Hey how are you doing?\\nUser 2: Doing ...</td>\n",
       "    </tr>\n",
       "    <tr>\n",
       "      <th>2</th>\n",
       "      <td>User 1: Hello there, how are you doing today?\\...</td>\n",
       "    </tr>\n",
       "    <tr>\n",
       "      <th>3</th>\n",
       "      <td>User 1: hi there!\\nUser 2: Hey! How's your day...</td>\n",
       "    </tr>\n",
       "    <tr>\n",
       "      <th>4</th>\n",
       "      <td>User 1: How is your day going?\\nUser 2: Great!...</td>\n",
       "    </tr>\n",
       "    <tr>\n",
       "      <th>...</th>\n",
       "      <td>...</td>\n",
       "    </tr>\n",
       "    <tr>\n",
       "      <th>10996</th>\n",
       "      <td>User 1: Hi there, what's up?\\nUser 2: Nothing ...</td>\n",
       "    </tr>\n",
       "    <tr>\n",
       "      <th>10997</th>\n",
       "      <td>User 1: Hey, what are you up to today?\\nUser 2...</td>\n",
       "    </tr>\n",
       "    <tr>\n",
       "      <th>10998</th>\n",
       "      <td>User 1: Hi there, how are you?\\nUser 2: Hello,...</td>\n",
       "    </tr>\n",
       "    <tr>\n",
       "      <th>10999</th>\n",
       "      <td>User 1: Hi there!\\nUser 2: Hey!\\nUser 1: How a...</td>\n",
       "    </tr>\n",
       "    <tr>\n",
       "      <th>11000</th>\n",
       "      <td>User 1: Hello, how are you?\\nUser 2: I'm doing...</td>\n",
       "    </tr>\n",
       "  </tbody>\n",
       "</table>\n",
       "<p>11001 rows × 1 columns</p>\n",
       "</div>"
      ],
      "text/plain": [
       "                                                    chat\n",
       "0      User 1: Hi! How are you?\\nUser 2: Good, thanks...\n",
       "1      User 1: Hey how are you doing?\\nUser 2: Doing ...\n",
       "2      User 1: Hello there, how are you doing today?\\...\n",
       "3      User 1: hi there!\\nUser 2: Hey! How's your day...\n",
       "4      User 1: How is your day going?\\nUser 2: Great!...\n",
       "...                                                  ...\n",
       "10996  User 1: Hi there, what's up?\\nUser 2: Nothing ...\n",
       "10997  User 1: Hey, what are you up to today?\\nUser 2...\n",
       "10998  User 1: Hi there, how are you?\\nUser 2: Hello,...\n",
       "10999  User 1: Hi there!\\nUser 2: Hey!\\nUser 1: How a...\n",
       "11000  User 1: Hello, how are you?\\nUser 2: I'm doing...\n",
       "\n",
       "[11001 rows x 1 columns]"
      ]
     },
     "execution_count": 4,
     "metadata": {},
     "output_type": "execute_result"
    }
   ],
   "source": [
    "df.rename(columns={'Best Generated Conversation': 'chat'}, inplace=True)\n",
    "df"
   ]
  },
  {
   "cell_type": "code",
   "execution_count": 5,
   "id": "933b284f",
   "metadata": {},
   "outputs": [
    {
     "name": "stderr",
     "output_type": "stream",
     "text": [
      "/tmp/ipykernel_8786/1191961554.py:3: FutureWarning: A value is trying to be set on a copy of a DataFrame or Series through chained assignment using an inplace method.\n",
      "The behavior will change in pandas 3.0. This inplace method will never work because the intermediate object on which we are setting values always behaves as a copy.\n",
      "\n",
      "For example, when doing 'df[col].method(value, inplace=True)', try using 'df.method({col: value}, inplace=True)' or df[col] = df[col].method(value) instead, to perform the operation inplace on the original object.\n",
      "\n",
      "\n",
      "  df['chat'].replace(to_replace=r'User 1: |User 2: |\\n', value=' ', regex=True,inplace=True)\n"
     ]
    }
   ],
   "source": [
    "#Removing User 1: and \\nUser2: and \\nUser 1:\n",
    "\n",
    "df['chat'].replace(to_replace=r'User 1: |User 2: |\\n', value=' ', regex=True,inplace=True)"
   ]
  },
  {
   "cell_type": "code",
   "execution_count": 6,
   "id": "7023c243",
   "metadata": {},
   "outputs": [
    {
     "data": {
      "text/html": [
       "<div>\n",
       "<style scoped>\n",
       "    .dataframe tbody tr th:only-of-type {\n",
       "        vertical-align: middle;\n",
       "    }\n",
       "\n",
       "    .dataframe tbody tr th {\n",
       "        vertical-align: top;\n",
       "    }\n",
       "\n",
       "    .dataframe thead th {\n",
       "        text-align: right;\n",
       "    }\n",
       "</style>\n",
       "<table border=\"1\" class=\"dataframe\">\n",
       "  <thead>\n",
       "    <tr style=\"text-align: right;\">\n",
       "      <th></th>\n",
       "      <th>chat</th>\n",
       "    </tr>\n",
       "  </thead>\n",
       "  <tbody>\n",
       "    <tr>\n",
       "      <th>0</th>\n",
       "      <td>Hi! How are you?  Good, thanks for asking! Ho...</td>\n",
       "    </tr>\n",
       "    <tr>\n",
       "      <th>1</th>\n",
       "      <td>Hey how are you doing?  Doing well, how about...</td>\n",
       "    </tr>\n",
       "    <tr>\n",
       "      <th>2</th>\n",
       "      <td>Hello there, how are you doing today?  Hi the...</td>\n",
       "    </tr>\n",
       "    <tr>\n",
       "      <th>3</th>\n",
       "      <td>hi there!  Hey! How's your day?  Pretty good ...</td>\n",
       "    </tr>\n",
       "    <tr>\n",
       "      <th>4</th>\n",
       "      <td>How is your day going?  Great! I am in the pr...</td>\n",
       "    </tr>\n",
       "    <tr>\n",
       "      <th>...</th>\n",
       "      <td>...</td>\n",
       "    </tr>\n",
       "    <tr>\n",
       "      <th>10996</th>\n",
       "      <td>Hi there, what's up?  Nothing much, just hang...</td>\n",
       "    </tr>\n",
       "    <tr>\n",
       "      <th>10997</th>\n",
       "      <td>Hey, what are you up to today?  Not much, jus...</td>\n",
       "    </tr>\n",
       "    <tr>\n",
       "      <th>10998</th>\n",
       "      <td>Hi there, how are you?  Hello, I'm doing well...</td>\n",
       "    </tr>\n",
       "    <tr>\n",
       "      <th>10999</th>\n",
       "      <td>Hi there!  Hey!  How are you today?  Good! Ju...</td>\n",
       "    </tr>\n",
       "    <tr>\n",
       "      <th>11000</th>\n",
       "      <td>Hello, how are you?  I'm doing well, thanks f...</td>\n",
       "    </tr>\n",
       "  </tbody>\n",
       "</table>\n",
       "<p>11001 rows × 1 columns</p>\n",
       "</div>"
      ],
      "text/plain": [
       "                                                    chat\n",
       "0       Hi! How are you?  Good, thanks for asking! Ho...\n",
       "1       Hey how are you doing?  Doing well, how about...\n",
       "2       Hello there, how are you doing today?  Hi the...\n",
       "3       hi there!  Hey! How's your day?  Pretty good ...\n",
       "4       How is your day going?  Great! I am in the pr...\n",
       "...                                                  ...\n",
       "10996   Hi there, what's up?  Nothing much, just hang...\n",
       "10997   Hey, what are you up to today?  Not much, jus...\n",
       "10998   Hi there, how are you?  Hello, I'm doing well...\n",
       "10999   Hi there!  Hey!  How are you today?  Good! Ju...\n",
       "11000   Hello, how are you?  I'm doing well, thanks f...\n",
       "\n",
       "[11001 rows x 1 columns]"
      ]
     },
     "execution_count": 6,
     "metadata": {},
     "output_type": "execute_result"
    }
   ],
   "source": [
    "df"
   ]
  },
  {
   "cell_type": "code",
   "execution_count": 7,
   "id": "71b0ccbf",
   "metadata": {},
   "outputs": [],
   "source": [
    "df['chat'] = df['chat'].apply(lambda x:x.lower()) #lowercasing the column"
   ]
  },
  {
   "cell_type": "code",
   "execution_count": 8,
   "id": "a22e598f",
   "metadata": {},
   "outputs": [
    {
     "name": "stdout",
     "output_type": "stream",
     "text": [
      "<class 'pandas.core.frame.DataFrame'>\n",
      "RangeIndex: 11001 entries, 0 to 11000\n",
      "Data columns (total 1 columns):\n",
      " #   Column  Non-Null Count  Dtype \n",
      "---  ------  --------------  ----- \n",
      " 0   chat    11001 non-null  object\n",
      "dtypes: object(1)\n",
      "memory usage: 86.1+ KB\n"
     ]
    }
   ],
   "source": [
    "df.info()"
   ]
  },
  {
   "cell_type": "code",
   "execution_count": 9,
   "id": "ffc29c9c",
   "metadata": {},
   "outputs": [
    {
     "data": {
      "text/plain": [
       "chat    0\n",
       "dtype: int64"
      ]
     },
     "execution_count": 9,
     "metadata": {},
     "output_type": "execute_result"
    }
   ],
   "source": [
    "df.isnull().sum() #0 null entry"
   ]
  },
  {
   "cell_type": "code",
   "execution_count": 10,
   "id": "062f31fa",
   "metadata": {},
   "outputs": [
    {
     "data": {
      "text/plain": [
       "0"
      ]
     },
     "execution_count": 10,
     "metadata": {},
     "output_type": "execute_result"
    }
   ],
   "source": [
    "df.duplicated().sum() #0 duplicated entry"
   ]
  },
  {
   "cell_type": "code",
   "execution_count": 11,
   "id": "aee1545f",
   "metadata": {},
   "outputs": [
    {
     "data": {
      "text/plain": [
       "chat    object\n",
       "dtype: object"
      ]
     },
     "execution_count": 11,
     "metadata": {},
     "output_type": "execute_result"
    }
   ],
   "source": [
    "df.dtypes"
   ]
  },
  {
   "cell_type": "code",
   "execution_count": 12,
   "id": "df9920b5",
   "metadata": {},
   "outputs": [],
   "source": [
    "#converting object type to string\n",
    "\n",
    "df['chat'] = df['chat'].astype(\"string\")"
   ]
  },
  {
   "cell_type": "code",
   "execution_count": 13,
   "id": "324b3520",
   "metadata": {},
   "outputs": [
    {
     "data": {
      "text/plain": [
       "\" hi! how are you?  good, thanks for asking! how about yourself?  i'm doing pretty well.  i'm excited to be moving to a new city soon!  oh that's awesome! what city are you moving to?  i'm moving to portland, oregon.  i'm going to be pursuing my culinary dreams there.  that sounds amazing! i love portland.  i'm originally from there.  really? that's so cool!  do you still live there?  no, i moved away a few years ago.  but i still visit my family there often.  that's great.  do you have any favorite places to visit in portland?  yes, i love going to powell's books.  it's the largest independent bookstore in the world.  that sounds amazing!  i've never been to powell's books before.  i'm definitely going to have to check it out.  you definitely should!  it's a really cool place.  thanks for the recommendation!  i'm sure i'll love it.  no problem!  i'm glad i could help. \""
      ]
     },
     "execution_count": 13,
     "metadata": {},
     "output_type": "execute_result"
    }
   ],
   "source": [
    "df['chat'][0]"
   ]
  },
  {
   "cell_type": "code",
   "execution_count": 14,
   "id": "3de4a9bd",
   "metadata": {},
   "outputs": [
    {
     "data": {
      "text/plain": [
       "'\\nThis dataset might not contain any profane words so we should randomly keep some of them into the chat So, \\n\\nAssumption:\\n\\n   Probability of a row contains at least a profane word = 1 (a coonversation contains atleast a profane word)\\n   \\n   Probability of a sentence (any thing between . or ? or !) containing a profane word ~ 1/3 = 0.3333 = 33.33%\\n\\n'"
      ]
     },
     "execution_count": 14,
     "metadata": {},
     "output_type": "execute_result"
    }
   ],
   "source": [
    "'''\n",
    "This dataset might not contain any profane words so we should randomly keep some of them into the chat So, \n",
    "\n",
    "Assumption:\n",
    "\n",
    "   Probability of a row contains at least a profane word = 1 (a coonversation contains atleast a profane word)\n",
    "   \n",
    "   Probability of a sentence (any thing between . or ? or !) containing a profane word ~ 1/3 = 0.3333 = 33.33%\n",
    "\n",
    "'''"
   ]
  },
  {
   "cell_type": "code",
   "execution_count": 15,
   "id": "9411b3df",
   "metadata": {},
   "outputs": [
    {
     "data": {
      "text/html": [
       "<div>\n",
       "<style scoped>\n",
       "    .dataframe tbody tr th:only-of-type {\n",
       "        vertical-align: middle;\n",
       "    }\n",
       "\n",
       "    .dataframe tbody tr th {\n",
       "        vertical-align: top;\n",
       "    }\n",
       "\n",
       "    .dataframe thead th {\n",
       "        text-align: right;\n",
       "    }\n",
       "</style>\n",
       "<table border=\"1\" class=\"dataframe\">\n",
       "  <thead>\n",
       "    <tr style=\"text-align: right;\">\n",
       "      <th></th>\n",
       "      <th>0</th>\n",
       "    </tr>\n",
       "  </thead>\n",
       "  <tbody>\n",
       "    <tr>\n",
       "      <th>0</th>\n",
       "      <td>2 girls 1 cup</td>\n",
       "    </tr>\n",
       "    <tr>\n",
       "      <th>1</th>\n",
       "      <td>2g1c</td>\n",
       "    </tr>\n",
       "    <tr>\n",
       "      <th>2</th>\n",
       "      <td>4r5e</td>\n",
       "    </tr>\n",
       "    <tr>\n",
       "      <th>3</th>\n",
       "      <td>5h1t</td>\n",
       "    </tr>\n",
       "    <tr>\n",
       "      <th>4</th>\n",
       "      <td>5hit</td>\n",
       "    </tr>\n",
       "    <tr>\n",
       "      <th>...</th>\n",
       "      <td>...</td>\n",
       "    </tr>\n",
       "    <tr>\n",
       "      <th>2717</th>\n",
       "      <td>zipperhead</td>\n",
       "    </tr>\n",
       "    <tr>\n",
       "      <th>2718</th>\n",
       "      <td>zipperheads</td>\n",
       "    </tr>\n",
       "    <tr>\n",
       "      <th>2719</th>\n",
       "      <td>zoophile</td>\n",
       "    </tr>\n",
       "    <tr>\n",
       "      <th>2720</th>\n",
       "      <td>zoophilia</td>\n",
       "    </tr>\n",
       "    <tr>\n",
       "      <th>2721</th>\n",
       "      <td>🖕</td>\n",
       "    </tr>\n",
       "  </tbody>\n",
       "</table>\n",
       "<p>2722 rows × 1 columns</p>\n",
       "</div>"
      ],
      "text/plain": [
       "                  0\n",
       "0     2 girls 1 cup\n",
       "1              2g1c\n",
       "2              4r5e\n",
       "3              5h1t\n",
       "4              5hit\n",
       "...             ...\n",
       "2717     zipperhead\n",
       "2718    zipperheads\n",
       "2719       zoophile\n",
       "2720      zoophilia\n",
       "2721              🖕\n",
       "\n",
       "[2722 rows x 1 columns]"
      ]
     },
     "execution_count": 15,
     "metadata": {},
     "output_type": "execute_result"
    }
   ],
   "source": [
    "df_pf = pd.read_json('words.json')\n",
    "df_pf"
   ]
  },
  {
   "cell_type": "code",
   "execution_count": 16,
   "id": "6e59f923",
   "metadata": {},
   "outputs": [],
   "source": [
    "df_pf.rename(columns={0: 'profane_words'}, inplace=True) #renaming it"
   ]
  },
  {
   "cell_type": "code",
   "execution_count": 17,
   "id": "fd8cc3d2",
   "metadata": {},
   "outputs": [
    {
     "data": {
      "text/html": [
       "<div>\n",
       "<style scoped>\n",
       "    .dataframe tbody tr th:only-of-type {\n",
       "        vertical-align: middle;\n",
       "    }\n",
       "\n",
       "    .dataframe tbody tr th {\n",
       "        vertical-align: top;\n",
       "    }\n",
       "\n",
       "    .dataframe thead th {\n",
       "        text-align: right;\n",
       "    }\n",
       "</style>\n",
       "<table border=\"1\" class=\"dataframe\">\n",
       "  <thead>\n",
       "    <tr style=\"text-align: right;\">\n",
       "      <th></th>\n",
       "      <th>profane_words</th>\n",
       "    </tr>\n",
       "  </thead>\n",
       "  <tbody>\n",
       "    <tr>\n",
       "      <th>0</th>\n",
       "      <td>2 girls 1 cup</td>\n",
       "    </tr>\n",
       "    <tr>\n",
       "      <th>1</th>\n",
       "      <td>2g1c</td>\n",
       "    </tr>\n",
       "    <tr>\n",
       "      <th>2</th>\n",
       "      <td>4r5e</td>\n",
       "    </tr>\n",
       "    <tr>\n",
       "      <th>3</th>\n",
       "      <td>5h1t</td>\n",
       "    </tr>\n",
       "    <tr>\n",
       "      <th>4</th>\n",
       "      <td>5hit</td>\n",
       "    </tr>\n",
       "    <tr>\n",
       "      <th>...</th>\n",
       "      <td>...</td>\n",
       "    </tr>\n",
       "    <tr>\n",
       "      <th>2717</th>\n",
       "      <td>zipperhead</td>\n",
       "    </tr>\n",
       "    <tr>\n",
       "      <th>2718</th>\n",
       "      <td>zipperheads</td>\n",
       "    </tr>\n",
       "    <tr>\n",
       "      <th>2719</th>\n",
       "      <td>zoophile</td>\n",
       "    </tr>\n",
       "    <tr>\n",
       "      <th>2720</th>\n",
       "      <td>zoophilia</td>\n",
       "    </tr>\n",
       "    <tr>\n",
       "      <th>2721</th>\n",
       "      <td>🖕</td>\n",
       "    </tr>\n",
       "  </tbody>\n",
       "</table>\n",
       "<p>2722 rows × 1 columns</p>\n",
       "</div>"
      ],
      "text/plain": [
       "      profane_words\n",
       "0     2 girls 1 cup\n",
       "1              2g1c\n",
       "2              4r5e\n",
       "3              5h1t\n",
       "4              5hit\n",
       "...             ...\n",
       "2717     zipperhead\n",
       "2718    zipperheads\n",
       "2719       zoophile\n",
       "2720      zoophilia\n",
       "2721              🖕\n",
       "\n",
       "[2722 rows x 1 columns]"
      ]
     },
     "execution_count": 17,
     "metadata": {},
     "output_type": "execute_result"
    }
   ],
   "source": [
    "df_pf"
   ]
  },
  {
   "cell_type": "code",
   "execution_count": 18,
   "id": "76593478",
   "metadata": {},
   "outputs": [],
   "source": [
    "'''\n",
    "2 condition for profanity is\n",
    "\n",
    "1. Probability of occurance of profanity is 1/3 = 0.3333 = 33.33% in sentence (. ? or !)\n",
    "\n",
    "2. A row must contain atleast one profanity\n",
    "\n",
    "'''\n",
    "\n",
    "import random\n",
    "\n",
    "# Function to introduce profane words into the chat text\n",
    "def introduce_profane_words(chat_df, profane_df, probability=1/3):\n",
    "    profane_words = profane_df['profane_words'].tolist()\n",
    "    modified_chat = []\n",
    "\n",
    "    for row in chat_df['chat']:\n",
    "        words = row.split()\n",
    "        profane_inserted = False\n",
    "\n",
    "        # Check the sentence endings for conditioning the insert\n",
    "        if row.endswith(('.', '?', '!')):\n",
    "            # Random chance to include one profane word in this row\n",
    "            if random.random() < probability:\n",
    "                profane_word = random.choice(profane_words)\n",
    "                # Randomly select a position to replace a word with the profane word\n",
    "                index_to_replace = random.randint(0, len(words) - 1)\n",
    "                words[index_to_replace] = profane_word\n",
    "                profane_inserted = True\n",
    "        \n",
    "        # If no profane word was inserted and the sentence doesn't contain one, add one\n",
    "        if not profane_inserted:\n",
    "            # Ensure there's at least one word in the sentence\n",
    "            if words:  \n",
    "                profane_word = random.choice(profane_words)\n",
    "                index_to_replace = random.randint(0, len(words) - 1)\n",
    "                words[index_to_replace] = profane_word\n",
    "        \n",
    "        modified_row = ' '.join(words)\n",
    "        modified_chat.append(modified_row)\n",
    "\n",
    "    chat_df['chat'] = modified_chat\n",
    "    return chat_df"
   ]
  },
  {
   "cell_type": "code",
   "execution_count": 19,
   "id": "c2670f15",
   "metadata": {},
   "outputs": [
    {
     "data": {
      "text/html": [
       "<div>\n",
       "<style scoped>\n",
       "    .dataframe tbody tr th:only-of-type {\n",
       "        vertical-align: middle;\n",
       "    }\n",
       "\n",
       "    .dataframe tbody tr th {\n",
       "        vertical-align: top;\n",
       "    }\n",
       "\n",
       "    .dataframe thead th {\n",
       "        text-align: right;\n",
       "    }\n",
       "</style>\n",
       "<table border=\"1\" class=\"dataframe\">\n",
       "  <thead>\n",
       "    <tr style=\"text-align: right;\">\n",
       "      <th></th>\n",
       "      <th>chat</th>\n",
       "    </tr>\n",
       "  </thead>\n",
       "  <tbody>\n",
       "    <tr>\n",
       "      <th>0</th>\n",
       "      <td>hi! how are you? good, thanks for asking! how ...</td>\n",
       "    </tr>\n",
       "    <tr>\n",
       "      <th>1</th>\n",
       "      <td>hey how are you doing? doing well, how about y...</td>\n",
       "    </tr>\n",
       "    <tr>\n",
       "      <th>2</th>\n",
       "      <td>hello there, how are you doing today? trannie ...</td>\n",
       "    </tr>\n",
       "    <tr>\n",
       "      <th>3</th>\n",
       "      <td>hi there! hey! how's your day? pretty good so ...</td>\n",
       "    </tr>\n",
       "    <tr>\n",
       "      <th>4</th>\n",
       "      <td>how is your day going? great! i am in the proc...</td>\n",
       "    </tr>\n",
       "    <tr>\n",
       "      <th>...</th>\n",
       "      <td>...</td>\n",
       "    </tr>\n",
       "    <tr>\n",
       "      <th>10996</th>\n",
       "      <td>hi there, what's up? nothing much, just hangin...</td>\n",
       "    </tr>\n",
       "    <tr>\n",
       "      <th>10997</th>\n",
       "      <td>hey, what are you up to today? not much, just ...</td>\n",
       "    </tr>\n",
       "    <tr>\n",
       "      <th>10998</th>\n",
       "      <td>hi there, how are you? hello, i'm doing well, ...</td>\n",
       "    </tr>\n",
       "    <tr>\n",
       "      <th>10999</th>\n",
       "      <td>hi there! hey! how are you today? good! just g...</td>\n",
       "    </tr>\n",
       "    <tr>\n",
       "      <th>11000</th>\n",
       "      <td>hello, how are you? i'm doing well, thanks for...</td>\n",
       "    </tr>\n",
       "  </tbody>\n",
       "</table>\n",
       "<p>11001 rows × 1 columns</p>\n",
       "</div>"
      ],
      "text/plain": [
       "                                                    chat\n",
       "0      hi! how are you? good, thanks for asking! how ...\n",
       "1      hey how are you doing? doing well, how about y...\n",
       "2      hello there, how are you doing today? trannie ...\n",
       "3      hi there! hey! how's your day? pretty good so ...\n",
       "4      how is your day going? great! i am in the proc...\n",
       "...                                                  ...\n",
       "10996  hi there, what's up? nothing much, just hangin...\n",
       "10997  hey, what are you up to today? not much, just ...\n",
       "10998  hi there, how are you? hello, i'm doing well, ...\n",
       "10999  hi there! hey! how are you today? good! just g...\n",
       "11000  hello, how are you? i'm doing well, thanks for...\n",
       "\n",
       "[11001 rows x 1 columns]"
      ]
     },
     "execution_count": 19,
     "metadata": {},
     "output_type": "execute_result"
    }
   ],
   "source": [
    "# Introduce profane words into the chat DataFrame\n",
    "modified_df_chat = introduce_profane_words(df, df_pf)\n",
    "\n",
    "# Display the modified DataFrame\n",
    "modified_df_chat"
   ]
  },
  {
   "cell_type": "code",
   "execution_count": 20,
   "id": "cb91c5a1",
   "metadata": {},
   "outputs": [
    {
     "data": {
      "text/plain": [
       "'hi there, what is your name? my name is (name) , it is nice to meet you nice to meet you too (name) . what do you like to do for fun? i am a goalie in a local hockey league oh that sounds like a lot of fun! i have always wanted to try hockey. it is a lot of fun! and it helps keep me in shape. that is good to hear. i have been trying to get in shape, but it is not easy. i know buceta you mean, it is hard to stay motivated. do you have any other hobbies? i play music in a band and i also love to read. oh that is awesome! i love to read too. what kind of music do you play? we play a mix of rock and roll and blues. that sounds really cool. i love to listen to rock and roll. nice to meet someone who appreciates good music. you too! i would love to hear your band play sometime. we would love to have you! we are playing at a local bar next weekend. i will definitely try to make it out. great! i hope to see you there.'"
      ]
     },
     "execution_count": 20,
     "metadata": {},
     "output_type": "execute_result"
    }
   ],
   "source": [
    "df['chat'][1100]"
   ]
  },
  {
   "cell_type": "code",
   "execution_count": 21,
   "id": "21593744",
   "metadata": {},
   "outputs": [
    {
     "data": {
      "text/html": [
       "<div>\n",
       "<style scoped>\n",
       "    .dataframe tbody tr th:only-of-type {\n",
       "        vertical-align: middle;\n",
       "    }\n",
       "\n",
       "    .dataframe tbody tr th {\n",
       "        vertical-align: top;\n",
       "    }\n",
       "\n",
       "    .dataframe thead th {\n",
       "        text-align: right;\n",
       "    }\n",
       "</style>\n",
       "<table border=\"1\" class=\"dataframe\">\n",
       "  <thead>\n",
       "    <tr style=\"text-align: right;\">\n",
       "      <th></th>\n",
       "      <th>chat</th>\n",
       "      <th>contains_profane</th>\n",
       "    </tr>\n",
       "  </thead>\n",
       "  <tbody>\n",
       "    <tr>\n",
       "      <th>0</th>\n",
       "      <td>hi! how are you? good, thanks for asking! how ...</td>\n",
       "      <td>True</td>\n",
       "    </tr>\n",
       "    <tr>\n",
       "      <th>1</th>\n",
       "      <td>hey how are you doing? doing well, how about y...</td>\n",
       "      <td>True</td>\n",
       "    </tr>\n",
       "    <tr>\n",
       "      <th>2</th>\n",
       "      <td>hello there, how are you doing today? trannie ...</td>\n",
       "      <td>True</td>\n",
       "    </tr>\n",
       "    <tr>\n",
       "      <th>3</th>\n",
       "      <td>hi there! hey! how's your day? pretty good so ...</td>\n",
       "      <td>True</td>\n",
       "    </tr>\n",
       "    <tr>\n",
       "      <th>4</th>\n",
       "      <td>how is your day going? great! i am in the proc...</td>\n",
       "      <td>True</td>\n",
       "    </tr>\n",
       "    <tr>\n",
       "      <th>...</th>\n",
       "      <td>...</td>\n",
       "      <td>...</td>\n",
       "    </tr>\n",
       "    <tr>\n",
       "      <th>10996</th>\n",
       "      <td>hi there, what's up? nothing much, just hangin...</td>\n",
       "      <td>True</td>\n",
       "    </tr>\n",
       "    <tr>\n",
       "      <th>10997</th>\n",
       "      <td>hey, what are you up to today? not much, just ...</td>\n",
       "      <td>True</td>\n",
       "    </tr>\n",
       "    <tr>\n",
       "      <th>10998</th>\n",
       "      <td>hi there, how are you? hello, i'm doing well, ...</td>\n",
       "      <td>True</td>\n",
       "    </tr>\n",
       "    <tr>\n",
       "      <th>10999</th>\n",
       "      <td>hi there! hey! how are you today? good! just g...</td>\n",
       "      <td>True</td>\n",
       "    </tr>\n",
       "    <tr>\n",
       "      <th>11000</th>\n",
       "      <td>hello, how are you? i'm doing well, thanks for...</td>\n",
       "      <td>True</td>\n",
       "    </tr>\n",
       "  </tbody>\n",
       "</table>\n",
       "<p>11001 rows × 2 columns</p>\n",
       "</div>"
      ],
      "text/plain": [
       "                                                    chat  contains_profane\n",
       "0      hi! how are you? good, thanks for asking! how ...              True\n",
       "1      hey how are you doing? doing well, how about y...              True\n",
       "2      hello there, how are you doing today? trannie ...              True\n",
       "3      hi there! hey! how's your day? pretty good so ...              True\n",
       "4      how is your day going? great! i am in the proc...              True\n",
       "...                                                  ...               ...\n",
       "10996  hi there, what's up? nothing much, just hangin...              True\n",
       "10997  hey, what are you up to today? not much, just ...              True\n",
       "10998  hi there, how are you? hello, i'm doing well, ...              True\n",
       "10999  hi there! hey! how are you today? good! just g...              True\n",
       "11000  hello, how are you? i'm doing well, thanks for...              True\n",
       "\n",
       "[11001 rows x 2 columns]"
      ]
     },
     "execution_count": 21,
     "metadata": {},
     "output_type": "execute_result"
    }
   ],
   "source": [
    "# Function to check for profane words if above code really worked\n",
    "\n",
    "def contains_profane(chat):\n",
    "    for word in df_pf['profane_words']:\n",
    "        if word in chat:\n",
    "            return True\n",
    "    return False\n",
    "\n",
    "df['contains_profane'] = df['chat'].apply(contains_profane)\n",
    "\n",
    "df"
   ]
  },
  {
   "cell_type": "code",
   "execution_count": 22,
   "id": "502929de",
   "metadata": {},
   "outputs": [
    {
     "data": {
      "text/html": [
       "<div>\n",
       "<style scoped>\n",
       "    .dataframe tbody tr th:only-of-type {\n",
       "        vertical-align: middle;\n",
       "    }\n",
       "\n",
       "    .dataframe tbody tr th {\n",
       "        vertical-align: top;\n",
       "    }\n",
       "\n",
       "    .dataframe thead th {\n",
       "        text-align: right;\n",
       "    }\n",
       "</style>\n",
       "<table border=\"1\" class=\"dataframe\">\n",
       "  <thead>\n",
       "    <tr style=\"text-align: right;\">\n",
       "      <th></th>\n",
       "      <th>chat</th>\n",
       "      <th>contains_profane</th>\n",
       "    </tr>\n",
       "  </thead>\n",
       "  <tbody>\n",
       "    <tr>\n",
       "      <th>0</th>\n",
       "      <td>hi! how are you? good, thanks for asking! how ...</td>\n",
       "      <td>True</td>\n",
       "    </tr>\n",
       "    <tr>\n",
       "      <th>1</th>\n",
       "      <td>hey how are you doing? doing well, how about y...</td>\n",
       "      <td>True</td>\n",
       "    </tr>\n",
       "    <tr>\n",
       "      <th>2</th>\n",
       "      <td>hello there, how are you doing today? trannie ...</td>\n",
       "      <td>True</td>\n",
       "    </tr>\n",
       "    <tr>\n",
       "      <th>3</th>\n",
       "      <td>hi there! hey! how's your day? pretty good so ...</td>\n",
       "      <td>True</td>\n",
       "    </tr>\n",
       "    <tr>\n",
       "      <th>4</th>\n",
       "      <td>how is your day going? great! i am in the proc...</td>\n",
       "      <td>True</td>\n",
       "    </tr>\n",
       "    <tr>\n",
       "      <th>...</th>\n",
       "      <td>...</td>\n",
       "      <td>...</td>\n",
       "    </tr>\n",
       "    <tr>\n",
       "      <th>10996</th>\n",
       "      <td>hi there, what's up? nothing much, just hangin...</td>\n",
       "      <td>True</td>\n",
       "    </tr>\n",
       "    <tr>\n",
       "      <th>10997</th>\n",
       "      <td>hey, what are you up to today? not much, just ...</td>\n",
       "      <td>True</td>\n",
       "    </tr>\n",
       "    <tr>\n",
       "      <th>10998</th>\n",
       "      <td>hi there, how are you? hello, i'm doing well, ...</td>\n",
       "      <td>True</td>\n",
       "    </tr>\n",
       "    <tr>\n",
       "      <th>10999</th>\n",
       "      <td>hi there! hey! how are you today? good! just g...</td>\n",
       "      <td>True</td>\n",
       "    </tr>\n",
       "    <tr>\n",
       "      <th>11000</th>\n",
       "      <td>hello, how are you? i'm doing well, thanks for...</td>\n",
       "      <td>True</td>\n",
       "    </tr>\n",
       "  </tbody>\n",
       "</table>\n",
       "<p>11001 rows × 2 columns</p>\n",
       "</div>"
      ],
      "text/plain": [
       "                                                    chat  contains_profane\n",
       "0      hi! how are you? good, thanks for asking! how ...              True\n",
       "1      hey how are you doing? doing well, how about y...              True\n",
       "2      hello there, how are you doing today? trannie ...              True\n",
       "3      hi there! hey! how's your day? pretty good so ...              True\n",
       "4      how is your day going? great! i am in the proc...              True\n",
       "...                                                  ...               ...\n",
       "10996  hi there, what's up? nothing much, just hangin...              True\n",
       "10997  hey, what are you up to today? not much, just ...              True\n",
       "10998  hi there, how are you? hello, i'm doing well, ...              True\n",
       "10999  hi there! hey! how are you today? good! just g...              True\n",
       "11000  hello, how are you? i'm doing well, thanks for...              True\n",
       "\n",
       "[11001 rows x 2 columns]"
      ]
     },
     "execution_count": 22,
     "metadata": {},
     "output_type": "execute_result"
    }
   ],
   "source": [
    "df[df.contains_profane]"
   ]
  },
  {
   "cell_type": "code",
   "execution_count": 23,
   "id": "fe798702",
   "metadata": {},
   "outputs": [
    {
     "data": {
      "text/plain": [
       "Index(['chat'], dtype='object')"
      ]
     },
     "execution_count": 23,
     "metadata": {},
     "output_type": "execute_result"
    }
   ],
   "source": [
    "#here df size = 11001 * 2 here row number is same as before so atleast 1 profaine word is present in df \n",
    "\n",
    "df.drop(columns=['contains_profane'],inplace=True)\n",
    "df.columns"
   ]
  },
  {
   "cell_type": "code",
   "execution_count": 24,
   "id": "1d027f1c",
   "metadata": {},
   "outputs": [],
   "source": [
    "'''\n",
    "Now for sentiment analysis removing punctuation & stop words\n",
    "\n",
    "'''\n",
    "\n",
    "import string"
   ]
  },
  {
   "cell_type": "code",
   "execution_count": 25,
   "id": "611fee86",
   "metadata": {},
   "outputs": [
    {
     "data": {
      "text/plain": [
       "'!\"#$%&\\'()*+,-./:;<=>?@[\\\\]^_`{|}~'"
      ]
     },
     "execution_count": 25,
     "metadata": {},
     "output_type": "execute_result"
    }
   ],
   "source": [
    "exclude = string.punctuation\n",
    "exclude"
   ]
  },
  {
   "cell_type": "code",
   "execution_count": 26,
   "id": "5dfcdd40",
   "metadata": {},
   "outputs": [],
   "source": [
    "def remove_punctuation(text):\n",
    "    return text.translate(str.maketrans('','',exclude)) #removing punctuation "
   ]
  },
  {
   "cell_type": "code",
   "execution_count": 27,
   "id": "28082d6f",
   "metadata": {},
   "outputs": [
    {
     "name": "stdout",
     "output_type": "stream",
     "text": [
      "Hello Is this Python I hve to use this  \n"
     ]
    }
   ],
   "source": [
    "print(remove_punctuation('Hello! Is this Python? I h@ve to use this. $ )'))"
   ]
  },
  {
   "cell_type": "code",
   "execution_count": 28,
   "id": "95b7523b",
   "metadata": {},
   "outputs": [],
   "source": [
    "df_new = pd.DataFrame()\n",
    "\n",
    "df_new['chat'] = df['chat'].apply(remove_punctuation)"
   ]
  },
  {
   "cell_type": "code",
   "execution_count": 29,
   "id": "93f83be7",
   "metadata": {},
   "outputs": [
    {
     "data": {
      "text/html": [
       "<div>\n",
       "<style scoped>\n",
       "    .dataframe tbody tr th:only-of-type {\n",
       "        vertical-align: middle;\n",
       "    }\n",
       "\n",
       "    .dataframe tbody tr th {\n",
       "        vertical-align: top;\n",
       "    }\n",
       "\n",
       "    .dataframe thead th {\n",
       "        text-align: right;\n",
       "    }\n",
       "</style>\n",
       "<table border=\"1\" class=\"dataframe\">\n",
       "  <thead>\n",
       "    <tr style=\"text-align: right;\">\n",
       "      <th></th>\n",
       "      <th>chat</th>\n",
       "    </tr>\n",
       "  </thead>\n",
       "  <tbody>\n",
       "    <tr>\n",
       "      <th>0</th>\n",
       "      <td>hi how are you good thanks for asking how abou...</td>\n",
       "    </tr>\n",
       "    <tr>\n",
       "      <th>1</th>\n",
       "      <td>hey how are you doing doing well how about you...</td>\n",
       "    </tr>\n",
       "    <tr>\n",
       "      <th>2</th>\n",
       "      <td>hello there how are you doing today trannie th...</td>\n",
       "    </tr>\n",
       "    <tr>\n",
       "      <th>3</th>\n",
       "      <td>hi there hey hows your day pretty good so far ...</td>\n",
       "    </tr>\n",
       "    <tr>\n",
       "      <th>4</th>\n",
       "      <td>how is your day going great i am in the proces...</td>\n",
       "    </tr>\n",
       "    <tr>\n",
       "      <th>...</th>\n",
       "      <td>...</td>\n",
       "    </tr>\n",
       "    <tr>\n",
       "      <th>10996</th>\n",
       "      <td>hi there whats up nothing much just hanging ou...</td>\n",
       "    </tr>\n",
       "    <tr>\n",
       "      <th>10997</th>\n",
       "      <td>hey what are you up to today not much just han...</td>\n",
       "    </tr>\n",
       "    <tr>\n",
       "      <th>10998</th>\n",
       "      <td>hi there how are you hello im doing well thank...</td>\n",
       "    </tr>\n",
       "    <tr>\n",
       "      <th>10999</th>\n",
       "      <td>hi there hey how are you today good just got b...</td>\n",
       "    </tr>\n",
       "    <tr>\n",
       "      <th>11000</th>\n",
       "      <td>hello how are you im doing well thanks for ask...</td>\n",
       "    </tr>\n",
       "  </tbody>\n",
       "</table>\n",
       "<p>11001 rows × 1 columns</p>\n",
       "</div>"
      ],
      "text/plain": [
       "                                                    chat\n",
       "0      hi how are you good thanks for asking how abou...\n",
       "1      hey how are you doing doing well how about you...\n",
       "2      hello there how are you doing today trannie th...\n",
       "3      hi there hey hows your day pretty good so far ...\n",
       "4      how is your day going great i am in the proces...\n",
       "...                                                  ...\n",
       "10996  hi there whats up nothing much just hanging ou...\n",
       "10997  hey what are you up to today not much just han...\n",
       "10998  hi there how are you hello im doing well thank...\n",
       "10999  hi there hey how are you today good just got b...\n",
       "11000  hello how are you im doing well thanks for ask...\n",
       "\n",
       "[11001 rows x 1 columns]"
      ]
     },
     "execution_count": 29,
     "metadata": {},
     "output_type": "execute_result"
    }
   ],
   "source": [
    "df_new"
   ]
  },
  {
   "cell_type": "code",
   "execution_count": 30,
   "id": "81c43ea4",
   "metadata": {},
   "outputs": [],
   "source": [
    "'''Removing stop words. Stop words are a set of commonly used words in a language. Examples of stop words in English are “a,” “the,” “is,” \n",
    "“are,” etc. Stop words are commonly used in Text Mining and Natural Language Processing (NLP) to eliminate words \n",
    "that are so widely used that they carry very little useful information.\n",
    "'''\n",
    "\n",
    "import nltk\n",
    "from nltk.corpus import stopwords"
   ]
  },
  {
   "cell_type": "code",
   "execution_count": 31,
   "id": "c3440e77",
   "metadata": {},
   "outputs": [
    {
     "name": "stdout",
     "output_type": "stream",
     "text": [
      "['i', 'me', 'my', 'myself', 'we', 'our', 'ours', 'ourselves', 'you', \"you're\", \"you've\", \"you'll\", \"you'd\", 'your', 'yours', 'yourself', 'yourselves', 'he', 'him', 'his', 'himself', 'she', \"she's\", 'her', 'hers', 'herself', 'it', \"it's\", 'its', 'itself', 'they', 'them', 'their', 'theirs', 'themselves', 'what', 'which', 'who', 'whom', 'this', 'that', \"that'll\", 'these', 'those', 'am', 'is', 'are', 'was', 'were', 'be', 'been', 'being', 'have', 'has', 'had', 'having', 'do', 'does', 'did', 'doing', 'a', 'an', 'the', 'and', 'but', 'if', 'or', 'because', 'as', 'until', 'while', 'of', 'at', 'by', 'for', 'with', 'about', 'against', 'between', 'into', 'through', 'during', 'before', 'after', 'above', 'below', 'to', 'from', 'up', 'down', 'in', 'out', 'on', 'off', 'over', 'under', 'again', 'further', 'then', 'once', 'here', 'there', 'when', 'where', 'why', 'how', 'all', 'any', 'both', 'each', 'few', 'more', 'most', 'other', 'some', 'such', 'no', 'nor', 'not', 'only', 'own', 'same', 'so', 'than', 'too', 'very', 's', 't', 'can', 'will', 'just', 'don', \"don't\", 'should', \"should've\", 'now', 'd', 'll', 'm', 'o', 're', 've', 'y', 'ain', 'aren', \"aren't\", 'couldn', \"couldn't\", 'didn', \"didn't\", 'doesn', \"doesn't\", 'hadn', \"hadn't\", 'hasn', \"hasn't\", 'haven', \"haven't\", 'isn', \"isn't\", 'ma', 'mightn', \"mightn't\", 'mustn', \"mustn't\", 'needn', \"needn't\", 'shan', \"shan't\", 'shouldn', \"shouldn't\", 'wasn', \"wasn't\", 'weren', \"weren't\", 'won', \"won't\", 'wouldn', \"wouldn't\"]\n"
     ]
    }
   ],
   "source": [
    "print(stopwords.words('english'))"
   ]
  },
  {
   "cell_type": "code",
   "execution_count": 32,
   "id": "8667d989",
   "metadata": {},
   "outputs": [
    {
     "name": "stdout",
     "output_type": "stream",
     "text": [
      "certain conditions during several generation are modified in the same years\n",
      "\n",
      "hi how are you good thanks for asking how about yourself slutty doing pretty well im excited to be moving to a new city soon oh thats awesome what city are you moving to im moving to portland oregon im going to be pursuing my culinary dreams there that sounds amazing i love portland im originally from there really thats so cool do you still live there no i moved away a few years ago but i still visit my family there often thats great do you have any favorite places to visit in portland yes i love going to powells books its the largest independent bookstore in the world that sounds amazing ive never been to powells books before im definitely going to have to check it out you definitely should its a really cool place thanks for the recommendation im sure ill love it no problem im glad i could help\n",
      "\n",
      "hi how are you good thanks for asking how about yourself slut doing pretty well in excited to be moving to a new city soon oh that awesome what city are you moving to in moving to poland oregon in going to be pursuing my urinary dreams there that sounds amazing i love poland in originally from there really that so cool do you still live there no i moved away a few years ago but i still visit my family there often that great do you have any favorite places to visit in poland yes i love going to powell books its the largest independent bookstore in the world that sounds amazing give never been to powell books before in definitely going to have to check it out you definitely should its a really cool place thanks for the recommendation in sure ill love it no problem in glad i could help\n"
     ]
    }
   ],
   "source": [
    "'''\n",
    "Before removing stop words spelling correction should be done but since above chat is syntheticslly generated this \n",
    "step can be avoided. Also, this step takes very long time so this step was avoided\n",
    "'''\n",
    "\n",
    "from textblob import TextBlob #library for spelling correction\n",
    "\n",
    "def text_correction(incorrect_text):\n",
    "    textBlb = TextBlob(incorrect_text)\n",
    "    return textBlb.correct().string\n",
    "\n",
    "incorrect_text = 'ceertain conditions duuriing seveal ggeneration aare moodified in the ssame yearr'\n",
    "\n",
    "textBlb = TextBlob(incorrect_text)\n",
    "print(textBlb.correct().string)\n",
    "print()\n",
    "\n",
    "#df_new['review'][0] = df['review'][0].apply(text_correction)#spelling correction\n",
    "#df_new\n",
    "\n",
    "print(df_new['chat'][0])\n",
    "print()\n",
    "print(text_correction(df_new['chat'][0]))"
   ]
  },
  {
   "cell_type": "code",
   "execution_count": 33,
   "id": "e1aa206c",
   "metadata": {},
   "outputs": [
    {
     "name": "stdout",
     "output_type": "stream",
     "text": [
      "hi how are you good thanks for asking how about yourself slutty doing pretty well im excited to be moving to a new city soon oh thats awesome what city are you moving to im moving to portland oregon im going to be pursuing my culinary dreams there that sounds amazing i love portland im originally from there really thats so cool do you still live there no i moved away a few years ago but i still visit my family there often thats great do you have any favorite places to visit in portland yes i love going to powells books its the largest independent bookstore in the world that sounds amazing ive never been to powells books before im definitely going to have to check it out you definitely should its a really cool place thanks for the recommendation im sure ill love it no problem im glad i could help\n",
      "\n",
      "hi    good thanks  asking    slutty  pretty well im excited   moving   new city soon oh thats awesome  city   moving  im moving  portland oregon im going   pursuing  culinary dreams   sounds amazing  love portland im originally   really thats  cool   still live    moved away   years ago   still visit  family  often thats great     favorite places  visit  portland yes  love going  powells books   largest independent bookstore   world  sounds amazing ive never   powells books  im definitely going    check    definitely    really cool place thanks   recommendation im sure ill love   problem im glad  could help\n"
     ]
    }
   ],
   "source": [
    "def remove_stopwords(text):\n",
    "    new_text=[]\n",
    "    \n",
    "    for word in text.split():\n",
    "        if word in stopwords.words('english'):\n",
    "            new_text.append('')\n",
    "        else:\n",
    "            new_text.append(word)\n",
    "    \n",
    "    x = new_text[:]\n",
    "    new_text.clear()\n",
    "    return \" \".join(x)\n",
    "    \n",
    "\n",
    "print(df_new['chat'][0])\n",
    "print()\n",
    "\n",
    "print(remove_stopwords(df_new['chat'][0]))"
   ]
  },
  {
   "cell_type": "code",
   "execution_count": 34,
   "id": "89d5b5d8",
   "metadata": {},
   "outputs": [
    {
     "data": {
      "text/html": [
       "<div>\n",
       "<style scoped>\n",
       "    .dataframe tbody tr th:only-of-type {\n",
       "        vertical-align: middle;\n",
       "    }\n",
       "\n",
       "    .dataframe tbody tr th {\n",
       "        vertical-align: top;\n",
       "    }\n",
       "\n",
       "    .dataframe thead th {\n",
       "        text-align: right;\n",
       "    }\n",
       "</style>\n",
       "<table border=\"1\" class=\"dataframe\">\n",
       "  <thead>\n",
       "    <tr style=\"text-align: right;\">\n",
       "      <th></th>\n",
       "      <th>chat</th>\n",
       "    </tr>\n",
       "  </thead>\n",
       "  <tbody>\n",
       "    <tr>\n",
       "      <th>0</th>\n",
       "      <td>hi    good thanks  asking    slutty  pretty we...</td>\n",
       "    </tr>\n",
       "    <tr>\n",
       "      <th>1</th>\n",
       "      <td>hey      well    im  great im  fulltime studen...</td>\n",
       "    </tr>\n",
       "    <tr>\n",
       "      <th>2</th>\n",
       "      <td>hello      today trannie     well thanks    im...</td>\n",
       "    </tr>\n",
       "    <tr>\n",
       "      <th>3</th>\n",
       "      <td>hi  hey hows  day pretty good  far  got back  ...</td>\n",
       "    </tr>\n",
       "    <tr>\n",
       "      <th>4</th>\n",
       "      <td>day going great     process  moving across ...</td>\n",
       "    </tr>\n",
       "    <tr>\n",
       "      <th>...</th>\n",
       "      <td>...</td>\n",
       "    </tr>\n",
       "    <tr>\n",
       "      <th>10996</th>\n",
       "      <td>hi  whats  nothing much  hanging     im  well ...</td>\n",
       "    </tr>\n",
       "    <tr>\n",
       "      <th>10997</th>\n",
       "      <td>hey      today  much  hanging   mater  cat nic...</td>\n",
       "    </tr>\n",
       "    <tr>\n",
       "      <th>10998</th>\n",
       "      <td>hi     hello im  well thank     im  alright th...</td>\n",
       "    </tr>\n",
       "    <tr>\n",
       "      <th>10999</th>\n",
       "      <td>hi  hey    today good  got back  working  nice...</td>\n",
       "    </tr>\n",
       "    <tr>\n",
       "      <th>11000</th>\n",
       "      <td>hello    im  well thanks  asking     today im ...</td>\n",
       "    </tr>\n",
       "  </tbody>\n",
       "</table>\n",
       "<p>11001 rows × 1 columns</p>\n",
       "</div>"
      ],
      "text/plain": [
       "                                                    chat\n",
       "0      hi    good thanks  asking    slutty  pretty we...\n",
       "1      hey      well    im  great im  fulltime studen...\n",
       "2      hello      today trannie     well thanks    im...\n",
       "3      hi  hey hows  day pretty good  far  got back  ...\n",
       "4         day going great     process  moving across ...\n",
       "...                                                  ...\n",
       "10996  hi  whats  nothing much  hanging     im  well ...\n",
       "10997  hey      today  much  hanging   mater  cat nic...\n",
       "10998  hi     hello im  well thank     im  alright th...\n",
       "10999  hi  hey    today good  got back  working  nice...\n",
       "11000  hello    im  well thanks  asking     today im ...\n",
       "\n",
       "[11001 rows x 1 columns]"
      ]
     },
     "execution_count": 34,
     "metadata": {},
     "output_type": "execute_result"
    }
   ],
   "source": [
    "df_new['chat'] = df_new['chat'].apply(remove_stopwords)#stopwords removal\n",
    "df_new"
   ]
  },
  {
   "cell_type": "markdown",
   "id": "9da52b4c",
   "metadata": {},
   "source": [
    "Sentiment analysis"
   ]
  },
  {
   "cell_type": "code",
   "execution_count": 35,
   "id": "368d0372",
   "metadata": {},
   "outputs": [
    {
     "data": {
      "text/html": [
       "<div>\n",
       "<style scoped>\n",
       "    .dataframe tbody tr th:only-of-type {\n",
       "        vertical-align: middle;\n",
       "    }\n",
       "\n",
       "    .dataframe tbody tr th {\n",
       "        vertical-align: top;\n",
       "    }\n",
       "\n",
       "    .dataframe thead th {\n",
       "        text-align: right;\n",
       "    }\n",
       "</style>\n",
       "<table border=\"1\" class=\"dataframe\">\n",
       "  <thead>\n",
       "    <tr style=\"text-align: right;\">\n",
       "      <th></th>\n",
       "      <th>chat</th>\n",
       "      <th>sentiment</th>\n",
       "    </tr>\n",
       "  </thead>\n",
       "  <tbody>\n",
       "    <tr>\n",
       "      <th>0</th>\n",
       "      <td>hi    good thanks  asking    slutty  pretty we...</td>\n",
       "      <td>0.9960</td>\n",
       "    </tr>\n",
       "    <tr>\n",
       "      <th>1</th>\n",
       "      <td>hey      well    im  great im  fulltime studen...</td>\n",
       "      <td>0.9956</td>\n",
       "    </tr>\n",
       "    <tr>\n",
       "      <th>2</th>\n",
       "      <td>hello      today trannie     well thanks    im...</td>\n",
       "      <td>0.9975</td>\n",
       "    </tr>\n",
       "    <tr>\n",
       "      <th>3</th>\n",
       "      <td>hi  hey hows  day pretty good  far  got back  ...</td>\n",
       "      <td>0.9945</td>\n",
       "    </tr>\n",
       "    <tr>\n",
       "      <th>4</th>\n",
       "      <td>day going great     process  moving across ...</td>\n",
       "      <td>0.9977</td>\n",
       "    </tr>\n",
       "    <tr>\n",
       "      <th>...</th>\n",
       "      <td>...</td>\n",
       "      <td>...</td>\n",
       "    </tr>\n",
       "    <tr>\n",
       "      <th>10996</th>\n",
       "      <td>hi  whats  nothing much  hanging     im  well ...</td>\n",
       "      <td>0.9983</td>\n",
       "    </tr>\n",
       "    <tr>\n",
       "      <th>10997</th>\n",
       "      <td>hey      today  much  hanging   mater  cat nic...</td>\n",
       "      <td>0.9976</td>\n",
       "    </tr>\n",
       "    <tr>\n",
       "      <th>10998</th>\n",
       "      <td>hi     hello im  well thank     im  alright th...</td>\n",
       "      <td>0.9954</td>\n",
       "    </tr>\n",
       "    <tr>\n",
       "      <th>10999</th>\n",
       "      <td>hi  hey    today good  got back  working  nice...</td>\n",
       "      <td>0.9945</td>\n",
       "    </tr>\n",
       "    <tr>\n",
       "      <th>11000</th>\n",
       "      <td>hello    im  well thanks  asking     today im ...</td>\n",
       "      <td>0.9975</td>\n",
       "    </tr>\n",
       "  </tbody>\n",
       "</table>\n",
       "<p>11001 rows × 2 columns</p>\n",
       "</div>"
      ],
      "text/plain": [
       "                                                    chat  sentiment\n",
       "0      hi    good thanks  asking    slutty  pretty we...     0.9960\n",
       "1      hey      well    im  great im  fulltime studen...     0.9956\n",
       "2      hello      today trannie     well thanks    im...     0.9975\n",
       "3      hi  hey hows  day pretty good  far  got back  ...     0.9945\n",
       "4         day going great     process  moving across ...     0.9977\n",
       "...                                                  ...        ...\n",
       "10996  hi  whats  nothing much  hanging     im  well ...     0.9983\n",
       "10997  hey      today  much  hanging   mater  cat nic...     0.9976\n",
       "10998  hi     hello im  well thank     im  alright th...     0.9954\n",
       "10999  hi  hey    today good  got back  working  nice...     0.9945\n",
       "11000  hello    im  well thanks  asking     today im ...     0.9975\n",
       "\n",
       "[11001 rows x 2 columns]"
      ]
     },
     "execution_count": 35,
     "metadata": {},
     "output_type": "execute_result"
    }
   ],
   "source": [
    "from vaderSentiment.vaderSentiment import SentimentIntensityAnalyzer\n",
    "\n",
    "analyzer = SentimentIntensityAnalyzer()\n",
    "\n",
    "# Define a function to get sentiment\n",
    "def get_sentiment(text):\n",
    "    score = analyzer.polarity_scores(text)\n",
    "    return score['compound']  # Compound score between -1 and 1\n",
    "\n",
    "\n",
    "df_new['sentiment'] = df_new['chat'].apply(get_sentiment)\n",
    "df_new_2 = df_new.copy(deep=True)\n",
    "df_new"
   ]
  },
  {
   "cell_type": "code",
   "execution_count": 36,
   "id": "f80abf3b",
   "metadata": {},
   "outputs": [
    {
     "data": {
      "text/plain": [
       "0.9959014453231524"
      ]
     },
     "execution_count": 36,
     "metadata": {},
     "output_type": "execute_result"
    }
   ],
   "source": [
    "df_new['sentiment'].mean()"
   ]
  },
  {
   "cell_type": "code",
   "execution_count": 37,
   "id": "aae1ed85",
   "metadata": {},
   "outputs": [
    {
     "data": {
      "text/plain": [
       "0.018171386065658688"
      ]
     },
     "execution_count": 37,
     "metadata": {},
     "output_type": "execute_result"
    }
   ],
   "source": [
    "df_new['sentiment'].std()"
   ]
  },
  {
   "cell_type": "code",
   "execution_count": 38,
   "id": "0eb50656",
   "metadata": {},
   "outputs": [
    {
     "data": {
      "text/plain": [
       "-0.4062"
      ]
     },
     "execution_count": 38,
     "metadata": {},
     "output_type": "execute_result"
    }
   ],
   "source": [
    "df_new['sentiment'].min()"
   ]
  },
  {
   "cell_type": "code",
   "execution_count": 39,
   "id": "922d8f22",
   "metadata": {},
   "outputs": [
    {
     "data": {
      "text/plain": [
       "0.9998"
      ]
     },
     "execution_count": 39,
     "metadata": {},
     "output_type": "execute_result"
    }
   ],
   "source": [
    "df_new['sentiment'].max()"
   ]
  },
  {
   "cell_type": "code",
   "execution_count": 40,
   "id": "621cfe10",
   "metadata": {},
   "outputs": [
    {
     "data": {
      "text/plain": [
       "96        really need  find  new place  live im startin...\n",
       "1603     hey hey im trying  get  reading   book recomme...\n",
       "1667     hey  hows  day  hey   bad  spent  time   kids ...\n",
       "1851      love  walking dead   far  whoring   series  l...\n",
       "2577     whats   much  thinking    tell  parents ive  s...\n",
       "2730     hi   going  chickfila  cunt way  work     reco...\n",
       "2760     im  upset  saw  neighbor abusing  dog today oh...\n",
       "2776     hi      today   bad  mom died    six     lust ...\n",
       "3024     hello im new  hi welcome   little chat group  ...\n",
       "3059        terrible day  husband  deploying   next 6 m...\n",
       "3514       found   coworker  stealing money   company o...\n",
       "4106     hello     good thanks  asking im  little sad t...\n",
       "4129     hey hows  going good  watching star wars  eati...\n",
       "4294     hey     well thanks     okay could  better    ...\n",
       "4640     hello im sarah im  big fan  cooking reading  s...\n",
       "5385        put  dog  recently    hard im  sorry  hear ...\n",
       "6539      like  start  day   workout  like  start  day ...\n",
       "6783      woke  early  morning  make breakfast   brothe...\n",
       "7050     hello im  law student hello  recently got hire...\n",
       "7085     shitfull hows  going good  got back   long day...\n",
       "7598     hi     today pretty good  mom   cancer survivo...\n",
       "9438     hey whats   much  trying  figure    want     l...\n",
       "9950     hey  hows  day going  bad  bad   great   could...\n",
       "10104    hey whats  im  excited   new season  game  thr...\n",
       "10418    hi  hi    im  well im  little nervous   future...\n",
       "10458    hey    day going   bad   got back   walk   dog...\n",
       "10680    hi im trying  cope   breakup im  sure    oh  t...\n",
       "Name: chat, dtype: object"
      ]
     },
     "execution_count": 40,
     "metadata": {},
     "output_type": "execute_result"
    }
   ],
   "source": [
    "df_new[df_new['sentiment']<0.95]['chat']"
   ]
  },
  {
   "cell_type": "code",
   "execution_count": 41,
   "id": "6749f84b",
   "metadata": {},
   "outputs": [
    {
     "data": {
      "text/html": [
       "<div>\n",
       "<style scoped>\n",
       "    .dataframe tbody tr th:only-of-type {\n",
       "        vertical-align: middle;\n",
       "    }\n",
       "\n",
       "    .dataframe tbody tr th {\n",
       "        vertical-align: top;\n",
       "    }\n",
       "\n",
       "    .dataframe thead th {\n",
       "        text-align: right;\n",
       "    }\n",
       "</style>\n",
       "<table border=\"1\" class=\"dataframe\">\n",
       "  <thead>\n",
       "    <tr style=\"text-align: right;\">\n",
       "      <th></th>\n",
       "      <th>negative_words</th>\n",
       "    </tr>\n",
       "  </thead>\n",
       "  <tbody>\n",
       "    <tr>\n",
       "      <th>0</th>\n",
       "      <td>abandon</td>\n",
       "    </tr>\n",
       "    <tr>\n",
       "      <th>1</th>\n",
       "      <td>abhorrent</td>\n",
       "    </tr>\n",
       "    <tr>\n",
       "      <th>2</th>\n",
       "      <td>abuse</td>\n",
       "    </tr>\n",
       "    <tr>\n",
       "      <th>3</th>\n",
       "      <td>angry</td>\n",
       "    </tr>\n",
       "    <tr>\n",
       "      <th>4</th>\n",
       "      <td>annoyed</td>\n",
       "    </tr>\n",
       "    <tr>\n",
       "      <th>...</th>\n",
       "      <td>...</td>\n",
       "    </tr>\n",
       "    <tr>\n",
       "      <th>95</th>\n",
       "      <td>sad</td>\n",
       "    </tr>\n",
       "    <tr>\n",
       "      <th>96</th>\n",
       "      <td>scornful</td>\n",
       "    </tr>\n",
       "    <tr>\n",
       "      <th>97</th>\n",
       "      <td>terrible</td>\n",
       "    </tr>\n",
       "    <tr>\n",
       "      <th>98</th>\n",
       "      <td>toxic</td>\n",
       "    </tr>\n",
       "    <tr>\n",
       "      <th>99</th>\n",
       "      <td>unbearable</td>\n",
       "    </tr>\n",
       "  </tbody>\n",
       "</table>\n",
       "<p>100 rows × 1 columns</p>\n",
       "</div>"
      ],
      "text/plain": [
       "   negative_words\n",
       "0         abandon\n",
       "1       abhorrent\n",
       "2           abuse\n",
       "3           angry\n",
       "4         annoyed\n",
       "..            ...\n",
       "95            sad\n",
       "96       scornful\n",
       "97       terrible\n",
       "98          toxic\n",
       "99     unbearable\n",
       "\n",
       "[100 rows x 1 columns]"
      ]
     },
     "execution_count": 41,
     "metadata": {},
     "output_type": "execute_result"
    }
   ],
   "source": [
    "#here words with +ve sentiments are way more than other so we should manually add negative sentiments\n",
    "\n",
    "# list of 100 negative words in lowercase\n",
    "negative_words = [\n",
    "    \"abandon\", \"abhorrent\", \"abuse\", \"angry\", \"annoyed\", \"anxious\", \"appalling\", \"bad\", \"barbaric\", \"bizarre\", \n",
    "    \"bitter\", \"blame\", \"blunder\", \"brutal\", \"caustic\", \"chaotic\", \"cold\", \"confused\", \"corrupt\", \"criticize\", \n",
    "    \"cruel\", \"culpable\", \"dangerous\", \"defeat\", \"defective\", \"deficient\", \"degrading\", \"depressed\", \"desolate\", \n",
    "    \"desperate\", \"destroy\", \"detest\", \"devastate\", \"difficult\", \"disappointing\", \"disastrous\", \"disastrously\", \n",
    "    \"discourage\", \"disgusting\", \"dishonest\", \"disloyal\", \"dismal\", \"disorganized\", \"disturbing\", \"distrustful\", \n",
    "    \"downhearted\", \"downcast\", \"dreary\", \"enraged\", \"evil\", \"exasperated\", \"failing\", \"fear\", \"feeble\", \n",
    "    \"frustrating\", \"futile\", \"harsh\", \"heartbroken\", \"hopeless\", \"horrible\", \"horrifying\", \"hurtful\", \"ignorant\", \n",
    "    \"immature\", \"immoral\", \"impolite\", \"incompetent\", \"indifferent\", \"ineffective\", \"inefficient\", \"inferior\", \n",
    "    \"insensitive\", \"insulting\", \"intolerant\", \"irate\", \"irresponsible\", \"irrelevant\", \"jealous\", \"lamentable\", \n",
    "    \"lethargic\", \"lonely\", \"malicious\", \"miserable\", \"neglectful\", \"negative\", \"nonsense\", \"offensive\", \"oppressive\", \n",
    "    \"pessimistic\", \"poor\", \"regretful\", \"rejected\", \"repulsive\", \"rude\", \"ruthless\", \"sad\", \"scornful\", \"terrible\", \n",
    "    \"toxic\", \"unbearable\"\n",
    "]\n",
    "\n",
    "# Create DataFrame\n",
    "df_negative = pd.DataFrame(negative_words, columns=[\"negative_words\"])\n",
    "\n",
    "df_negative"
   ]
  },
  {
   "cell_type": "code",
   "execution_count": 42,
   "id": "ef22ad69",
   "metadata": {},
   "outputs": [
    {
     "data": {
      "text/html": [
       "<div>\n",
       "<style scoped>\n",
       "    .dataframe tbody tr th:only-of-type {\n",
       "        vertical-align: middle;\n",
       "    }\n",
       "\n",
       "    .dataframe tbody tr th {\n",
       "        vertical-align: top;\n",
       "    }\n",
       "\n",
       "    .dataframe thead th {\n",
       "        text-align: right;\n",
       "    }\n",
       "</style>\n",
       "<table border=\"1\" class=\"dataframe\">\n",
       "  <thead>\n",
       "    <tr style=\"text-align: right;\">\n",
       "      <th></th>\n",
       "      <th>chat</th>\n",
       "      <th>sentiment</th>\n",
       "    </tr>\n",
       "  </thead>\n",
       "  <tbody>\n",
       "    <tr>\n",
       "      <th>0</th>\n",
       "      <td>hi    good thanks  asking    slutty  pretty we...</td>\n",
       "      <td>0.9960</td>\n",
       "    </tr>\n",
       "    <tr>\n",
       "      <th>1</th>\n",
       "      <td>hey      well    im  great im  fulltime studen...</td>\n",
       "      <td>0.9956</td>\n",
       "    </tr>\n",
       "    <tr>\n",
       "      <th>2</th>\n",
       "      <td>hello      today trannie     well thanks    im...</td>\n",
       "      <td>0.9975</td>\n",
       "    </tr>\n",
       "    <tr>\n",
       "      <th>3</th>\n",
       "      <td>hi  hey hows  day pretty good  far  got back  ...</td>\n",
       "      <td>0.9945</td>\n",
       "    </tr>\n",
       "    <tr>\n",
       "      <th>4</th>\n",
       "      <td>day going great     process  moving across ...</td>\n",
       "      <td>0.9977</td>\n",
       "    </tr>\n",
       "    <tr>\n",
       "      <th>...</th>\n",
       "      <td>...</td>\n",
       "      <td>...</td>\n",
       "    </tr>\n",
       "    <tr>\n",
       "      <th>10996</th>\n",
       "      <td>hi  whats  nothing much  hanging     im  well ...</td>\n",
       "      <td>0.9983</td>\n",
       "    </tr>\n",
       "    <tr>\n",
       "      <th>10997</th>\n",
       "      <td>hey      today  much  hanging   mater  cat nic...</td>\n",
       "      <td>0.9976</td>\n",
       "    </tr>\n",
       "    <tr>\n",
       "      <th>10998</th>\n",
       "      <td>hi     hello im  well thank     im  alright th...</td>\n",
       "      <td>0.9954</td>\n",
       "    </tr>\n",
       "    <tr>\n",
       "      <th>10999</th>\n",
       "      <td>hi  hey    today good  got back  working  nice...</td>\n",
       "      <td>0.9945</td>\n",
       "    </tr>\n",
       "    <tr>\n",
       "      <th>11000</th>\n",
       "      <td>hello    im  well thanks  asking     today im ...</td>\n",
       "      <td>0.9975</td>\n",
       "    </tr>\n",
       "  </tbody>\n",
       "</table>\n",
       "<p>11001 rows × 2 columns</p>\n",
       "</div>"
      ],
      "text/plain": [
       "                                                    chat  sentiment\n",
       "0      hi    good thanks  asking    slutty  pretty we...     0.9960\n",
       "1      hey      well    im  great im  fulltime studen...     0.9956\n",
       "2      hello      today trannie     well thanks    im...     0.9975\n",
       "3      hi  hey hows  day pretty good  far  got back  ...     0.9945\n",
       "4         day going great     process  moving across ...     0.9977\n",
       "...                                                  ...        ...\n",
       "10996  hi  whats  nothing much  hanging     im  well ...     0.9983\n",
       "10997  hey      today  much  hanging   mater  cat nic...     0.9976\n",
       "10998  hi     hello im  well thank     im  alright th...     0.9954\n",
       "10999  hi  hey    today good  got back  working  nice...     0.9945\n",
       "11000  hello    im  well thanks  asking     today im ...     0.9975\n",
       "\n",
       "[11001 rows x 2 columns]"
      ]
     },
     "execution_count": 42,
     "metadata": {},
     "output_type": "execute_result"
    }
   ],
   "source": [
    "df_new_2"
   ]
  },
  {
   "cell_type": "code",
   "execution_count": 43,
   "id": "9ad9ebcd",
   "metadata": {},
   "outputs": [
    {
     "data": {
      "text/html": [
       "<div>\n",
       "<style scoped>\n",
       "    .dataframe tbody tr th:only-of-type {\n",
       "        vertical-align: middle;\n",
       "    }\n",
       "\n",
       "    .dataframe tbody tr th {\n",
       "        vertical-align: top;\n",
       "    }\n",
       "\n",
       "    .dataframe thead th {\n",
       "        text-align: right;\n",
       "    }\n",
       "</style>\n",
       "<table border=\"1\" class=\"dataframe\">\n",
       "  <thead>\n",
       "    <tr style=\"text-align: right;\">\n",
       "      <th></th>\n",
       "      <th>chat</th>\n",
       "      <th>sentiment</th>\n",
       "    </tr>\n",
       "  </thead>\n",
       "  <tbody>\n",
       "    <tr>\n",
       "      <th>0</th>\n",
       "      <td>hi    good thanks  asking    slutty  pretty we...</td>\n",
       "      <td>-0.9796</td>\n",
       "    </tr>\n",
       "    <tr>\n",
       "      <th>1</th>\n",
       "      <td>hey      well    im  great im  fulltime studen...</td>\n",
       "      <td>-0.9575</td>\n",
       "    </tr>\n",
       "    <tr>\n",
       "      <th>2</th>\n",
       "      <td>hello      today trannie     well thanks    im...</td>\n",
       "      <td>-0.8402</td>\n",
       "    </tr>\n",
       "    <tr>\n",
       "      <th>3</th>\n",
       "      <td>hi  hey hows  day pretty good  far  got back  ...</td>\n",
       "      <td>-0.9655</td>\n",
       "    </tr>\n",
       "    <tr>\n",
       "      <th>4</th>\n",
       "      <td>day going great     process  moving across ...</td>\n",
       "      <td>0.9699</td>\n",
       "    </tr>\n",
       "    <tr>\n",
       "      <th>...</th>\n",
       "      <td>...</td>\n",
       "      <td>...</td>\n",
       "    </tr>\n",
       "    <tr>\n",
       "      <th>10996</th>\n",
       "      <td>hi  whats  nothing much  hanging     im  well ...</td>\n",
       "      <td>0.9823</td>\n",
       "    </tr>\n",
       "    <tr>\n",
       "      <th>10997</th>\n",
       "      <td>hey      today  much  hanging   mater  cat nic...</td>\n",
       "      <td>0.9007</td>\n",
       "    </tr>\n",
       "    <tr>\n",
       "      <th>10998</th>\n",
       "      <td>hi     hello im  well thank     im  alright th...</td>\n",
       "      <td>-0.9491</td>\n",
       "    </tr>\n",
       "    <tr>\n",
       "      <th>10999</th>\n",
       "      <td>hi  hey    today good  got back  working  nice...</td>\n",
       "      <td>-0.8805</td>\n",
       "    </tr>\n",
       "    <tr>\n",
       "      <th>11000</th>\n",
       "      <td>hello    im  well thanks  asking     today im ...</td>\n",
       "      <td>-0.9102</td>\n",
       "    </tr>\n",
       "  </tbody>\n",
       "</table>\n",
       "<p>11001 rows × 2 columns</p>\n",
       "</div>"
      ],
      "text/plain": [
       "                                                    chat  sentiment\n",
       "0      hi    good thanks  asking    slutty  pretty we...    -0.9796\n",
       "1      hey      well    im  great im  fulltime studen...    -0.9575\n",
       "2      hello      today trannie     well thanks    im...    -0.8402\n",
       "3      hi  hey hows  day pretty good  far  got back  ...    -0.9655\n",
       "4         day going great     process  moving across ...     0.9699\n",
       "...                                                  ...        ...\n",
       "10996  hi  whats  nothing much  hanging     im  well ...     0.9823\n",
       "10997  hey      today  much  hanging   mater  cat nic...     0.9007\n",
       "10998  hi     hello im  well thank     im  alright th...    -0.9491\n",
       "10999  hi  hey    today good  got back  working  nice...    -0.8805\n",
       "11000  hello    im  well thanks  asking     today im ...    -0.9102\n",
       "\n",
       "[11001 rows x 2 columns]"
      ]
     },
     "execution_count": 43,
     "metadata": {},
     "output_type": "execute_result"
    }
   ],
   "source": [
    "df_new = df_new_2.copy(deep=True)\n",
    "\n",
    "'''\n",
    "Since we have almost all sentiments above 0.99 we will randomly select 50% of dataset and add randomly add\n",
    "1-40 negative words so we have normal distribution of sentiments\n",
    "'''\n",
    "\n",
    "# Function to add random negative words\n",
    "def add_negative_words(chat):\n",
    "    num_words = random.randint(30, 37)  # Choose a random count of negative words from 30-40 \n",
    "    selected_negative_words = random.choices(df_negative['negative_words'], k=num_words)  # Randomly select negative words\n",
    "    return chat + ' ' + ' '.join(selected_negative_words)  # Append the negative words\n",
    "\n",
    "\n",
    "random_df = df_new.sample(frac=1, random_state=17) #radomly select 50% of the dataframe\n",
    "\n",
    "# Apply the function \n",
    "df_new.loc[random_df.index, 'chat'] = random_df['chat'].apply(add_negative_words)\n",
    "\n",
    "df_new['sentiment'] = df_new['chat'].apply(get_sentiment)\n",
    "\n",
    "df_new"
   ]
  },
  {
   "cell_type": "code",
   "execution_count": 44,
   "id": "cc975228",
   "metadata": {},
   "outputs": [
    {
     "data": {
      "image/png": "[encoded data removed]",
      "text/plain": [
       "<Figure size 2000x1000 with 1 Axes>"
      ]
     },
     "metadata": {},
     "output_type": "display_data"
    }
   ],
   "source": [
    "import seaborn as sns\n",
    "\n",
    "sns.set(style=\"whitegrid\")\n",
    "\n",
    "plt.figure(figsize=(20, 10))\n",
    "sns.histplot(df_new['sentiment'], kde=True, color='blue', bins=100)\n",
    "\n",
    "plt.title('Distribution of Sentiment', fontsize=16)\n",
    "plt.xlabel('Sentiment', fontsize=14)\n",
    "plt.ylabel('Frequency', fontsize=14)\n",
    "\n",
    "plt.show()"
   ]
  },
  {
   "cell_type": "code",
   "execution_count": 45,
   "id": "ff8bfa77",
   "metadata": {},
   "outputs": [
    {
     "data": {
      "text/plain": [
       "-0.046288991909826376"
      ]
     },
     "execution_count": 45,
     "metadata": {},
     "output_type": "execute_result"
    }
   ],
   "source": [
    "df_new['sentiment'].mean()"
   ]
  },
  {
   "cell_type": "code",
   "execution_count": 46,
   "id": "2e089616",
   "metadata": {},
   "outputs": [
    {
     "data": {
      "text/plain": [
       "-0.9984"
      ]
     },
     "execution_count": 46,
     "metadata": {},
     "output_type": "execute_result"
    }
   ],
   "source": [
    "df_new['sentiment'].min()"
   ]
  },
  {
   "cell_type": "code",
   "execution_count": 47,
   "id": "b9d9e450",
   "metadata": {},
   "outputs": [
    {
     "data": {
      "text/plain": [
       "0.9996"
      ]
     },
     "execution_count": 47,
     "metadata": {},
     "output_type": "execute_result"
    }
   ],
   "source": [
    "df_new['sentiment'].max()"
   ]
  },
  {
   "cell_type": "code",
   "execution_count": 48,
   "id": "a6c257ec",
   "metadata": {},
   "outputs": [
    {
     "data": {
      "text/plain": [
       "0.8766340712456999"
      ]
     },
     "execution_count": 48,
     "metadata": {},
     "output_type": "execute_result"
    }
   ],
   "source": [
    "df_new['sentiment'].std()"
   ]
  },
  {
   "cell_type": "code",
   "execution_count": 49,
   "id": "fdb7b1ef",
   "metadata": {},
   "outputs": [
    {
     "data": {
      "text/html": [
       "<div>\n",
       "<style scoped>\n",
       "    .dataframe tbody tr th:only-of-type {\n",
       "        vertical-align: middle;\n",
       "    }\n",
       "\n",
       "    .dataframe tbody tr th {\n",
       "        vertical-align: top;\n",
       "    }\n",
       "\n",
       "    .dataframe thead th {\n",
       "        text-align: right;\n",
       "    }\n",
       "</style>\n",
       "<table border=\"1\" class=\"dataframe\">\n",
       "  <thead>\n",
       "    <tr style=\"text-align: right;\">\n",
       "      <th></th>\n",
       "      <th>chat</th>\n",
       "      <th>sentiment_level</th>\n",
       "    </tr>\n",
       "  </thead>\n",
       "  <tbody>\n",
       "    <tr>\n",
       "      <th>0</th>\n",
       "      <td>hi    good thanks  asking    slutty  pretty we...</td>\n",
       "      <td>Negative</td>\n",
       "    </tr>\n",
       "    <tr>\n",
       "      <th>1</th>\n",
       "      <td>hey      well    im  great im  fulltime studen...</td>\n",
       "      <td>Negative</td>\n",
       "    </tr>\n",
       "    <tr>\n",
       "      <th>2</th>\n",
       "      <td>hello      today trannie     well thanks    im...</td>\n",
       "      <td>Negative</td>\n",
       "    </tr>\n",
       "    <tr>\n",
       "      <th>3</th>\n",
       "      <td>hi  hey hows  day pretty good  far  got back  ...</td>\n",
       "      <td>Negative</td>\n",
       "    </tr>\n",
       "    <tr>\n",
       "      <th>4</th>\n",
       "      <td>day going great     process  moving across ...</td>\n",
       "      <td>Positive</td>\n",
       "    </tr>\n",
       "    <tr>\n",
       "      <th>...</th>\n",
       "      <td>...</td>\n",
       "      <td>...</td>\n",
       "    </tr>\n",
       "    <tr>\n",
       "      <th>10996</th>\n",
       "      <td>hi  whats  nothing much  hanging     im  well ...</td>\n",
       "      <td>Positive</td>\n",
       "    </tr>\n",
       "    <tr>\n",
       "      <th>10997</th>\n",
       "      <td>hey      today  much  hanging   mater  cat nic...</td>\n",
       "      <td>Positive</td>\n",
       "    </tr>\n",
       "    <tr>\n",
       "      <th>10998</th>\n",
       "      <td>hi     hello im  well thank     im  alright th...</td>\n",
       "      <td>Negative</td>\n",
       "    </tr>\n",
       "    <tr>\n",
       "      <th>10999</th>\n",
       "      <td>hi  hey    today good  got back  working  nice...</td>\n",
       "      <td>Negative</td>\n",
       "    </tr>\n",
       "    <tr>\n",
       "      <th>11000</th>\n",
       "      <td>hello    im  well thanks  asking     today im ...</td>\n",
       "      <td>Negative</td>\n",
       "    </tr>\n",
       "  </tbody>\n",
       "</table>\n",
       "<p>11001 rows × 2 columns</p>\n",
       "</div>"
      ],
      "text/plain": [
       "                                                    chat sentiment_level\n",
       "0      hi    good thanks  asking    slutty  pretty we...        Negative\n",
       "1      hey      well    im  great im  fulltime studen...        Negative\n",
       "2      hello      today trannie     well thanks    im...        Negative\n",
       "3      hi  hey hows  day pretty good  far  got back  ...        Negative\n",
       "4         day going great     process  moving across ...        Positive\n",
       "...                                                  ...             ...\n",
       "10996  hi  whats  nothing much  hanging     im  well ...        Positive\n",
       "10997  hey      today  much  hanging   mater  cat nic...        Positive\n",
       "10998  hi     hello im  well thank     im  alright th...        Negative\n",
       "10999  hi  hey    today good  got back  working  nice...        Negative\n",
       "11000  hello    im  well thanks  asking     today im ...        Negative\n",
       "\n",
       "[11001 rows x 2 columns]"
      ]
     },
     "execution_count": 49,
     "metadata": {},
     "output_type": "execute_result"
    }
   ],
   "source": [
    "''' SentimentIntensityAnalyzer returns sentiment in \n",
    "{\n",
    "    'neg': 0.0,\n",
    "    'neu': 0.302,\n",
    "    'pos': 0.698,\n",
    "    'compound': 0.8521\n",
    "}\n",
    "\n",
    "compound >= 0.05: positive sentiment.\n",
    "compound <= -0.05: negative sentiment.\n",
    "-0.05 < compound < 0.05: neutral sentiment.\n",
    "'''\n",
    "\n",
    "def classify_sentiment(sentiment):\n",
    "    if sentiment <= -0.05:\n",
    "        return 'Negative'\n",
    "    elif -0.05< sentiment < 0.05:\n",
    "        return 'Neutral'\n",
    "    else:  # 0.05 <= sentiment\n",
    "        return 'Positive'\n",
    "    \n",
    "df_new['sentiment_level'] = df_new['sentiment'].apply(classify_sentiment)\n",
    "df_new.drop(columns=['sentiment'],inplace=True)\n",
    "df_new"
   ]
  },
  {
   "cell_type": "code",
   "execution_count": 50,
   "id": "7fa2ec9f",
   "metadata": {},
   "outputs": [
    {
     "data": {
      "image/png": "[encoded data removed]",
      "text/plain": [
       "<Figure size 2000x1000 with 1 Axes>"
      ]
     },
     "metadata": {},
     "output_type": "display_data"
    }
   ],
   "source": [
    "import matplotlib\n",
    "matplotlib.rcParams['figure.figsize']=(20,10)\n",
    "\n",
    "plt.pie(df_new['sentiment_level'].value_counts(), labels=df_new['sentiment_level'].value_counts().index, autopct='%0.2f%%', startangle=140)\n",
    "plt.title('Sentiments: Positive Neutral Negative')\n",
    "plt.axis('equal')  # Equal aspect ratio ensures that pie chart is circular.\n",
    "plt.show()"
   ]
  },
  {
   "cell_type": "code",
   "execution_count": 51,
   "id": "b883f6f6",
   "metadata": {},
   "outputs": [
    {
     "data": {
      "text/html": [
       "<div>\n",
       "<style scoped>\n",
       "    .dataframe tbody tr th:only-of-type {\n",
       "        vertical-align: middle;\n",
       "    }\n",
       "\n",
       "    .dataframe tbody tr th {\n",
       "        vertical-align: top;\n",
       "    }\n",
       "\n",
       "    .dataframe thead th {\n",
       "        text-align: right;\n",
       "    }\n",
       "</style>\n",
       "<table border=\"1\" class=\"dataframe\">\n",
       "  <thead>\n",
       "    <tr style=\"text-align: right;\">\n",
       "      <th></th>\n",
       "      <th>chat</th>\n",
       "      <th>sentiment_level</th>\n",
       "      <th>edited_chat</th>\n",
       "      <th>removed_words</th>\n",
       "    </tr>\n",
       "  </thead>\n",
       "  <tbody>\n",
       "    <tr>\n",
       "      <th>0</th>\n",
       "      <td>hi    good thanks  asking    slutty  pretty we...</td>\n",
       "      <td>Negative</td>\n",
       "      <td>hi    good thanks  asking    ty  pretty well i...</td>\n",
       "      <td>abuse, slut</td>\n",
       "    </tr>\n",
       "    <tr>\n",
       "      <th>1</th>\n",
       "      <td>hey      well    im  great im  fulltime studen...</td>\n",
       "      <td>Negative</td>\n",
       "      <td>hey      well    im  great im  fulltime studen...</td>\n",
       "      <td>ass, ike, orga, pedo</td>\n",
       "    </tr>\n",
       "    <tr>\n",
       "      <th>2</th>\n",
       "      <td>hello      today trannie     well thanks    im...</td>\n",
       "      <td>Negative</td>\n",
       "      <td>hello      today      well thanks    im  well ...</td>\n",
       "      <td>ass, trannie, yed</td>\n",
       "    </tr>\n",
       "    <tr>\n",
       "      <th>3</th>\n",
       "      <td>hi  hey hows  day pretty good  far  got back  ...</td>\n",
       "      <td>Negative</td>\n",
       "      <td>hi  hey hows  day pretty good  far  got back  ...</td>\n",
       "      <td>ero, ike, lez, orga, stfu, yed</td>\n",
       "    </tr>\n",
       "    <tr>\n",
       "      <th>4</th>\n",
       "      <td>day going great     process  moving across ...</td>\n",
       "      <td>Positive</td>\n",
       "      <td>day going great     process  moving across  co...</td>\n",
       "      <td>NA</td>\n",
       "    </tr>\n",
       "    <tr>\n",
       "      <th>...</th>\n",
       "      <td>...</td>\n",
       "      <td>...</td>\n",
       "      <td>...</td>\n",
       "      <td>...</td>\n",
       "    </tr>\n",
       "    <tr>\n",
       "      <th>10996</th>\n",
       "      <td>hi  whats  nothing much  hanging     im  well ...</td>\n",
       "      <td>Positive</td>\n",
       "      <td>hi  whats  nothing much  hanging     im  well ...</td>\n",
       "      <td>NA</td>\n",
       "    </tr>\n",
       "    <tr>\n",
       "      <th>10997</th>\n",
       "      <td>hey      today  much  hanging   mater  cat nic...</td>\n",
       "      <td>Positive</td>\n",
       "      <td>hey      today  much  hanging   mater  cat nic...</td>\n",
       "      <td>NA</td>\n",
       "    </tr>\n",
       "    <tr>\n",
       "      <th>10998</th>\n",
       "      <td>hi     hello im  well thank     im  alright th...</td>\n",
       "      <td>Negative</td>\n",
       "      <td>hi     hello im  well thank     im  alright th...</td>\n",
       "      <td>abuse, bung, ero, ike, orga, souse</td>\n",
       "    </tr>\n",
       "    <tr>\n",
       "      <th>10999</th>\n",
       "      <td>hi  hey    today good  got back  working  nice...</td>\n",
       "      <td>Negative</td>\n",
       "      <td>hi  hey    today good  got back  working  nice...</td>\n",
       "      <td>cock, ike, orga, yed</td>\n",
       "    </tr>\n",
       "    <tr>\n",
       "      <th>11000</th>\n",
       "      <td>hello    im  well thanks  asking     today im ...</td>\n",
       "      <td>Negative</td>\n",
       "      <td>hello    im  well thanks  asking     today im ...</td>\n",
       "      <td>ike, moon cricket, orga, stfu</td>\n",
       "    </tr>\n",
       "  </tbody>\n",
       "</table>\n",
       "<p>11001 rows × 4 columns</p>\n",
       "</div>"
      ],
      "text/plain": [
       "                                                    chat sentiment_level  \\\n",
       "0      hi    good thanks  asking    slutty  pretty we...        Negative   \n",
       "1      hey      well    im  great im  fulltime studen...        Negative   \n",
       "2      hello      today trannie     well thanks    im...        Negative   \n",
       "3      hi  hey hows  day pretty good  far  got back  ...        Negative   \n",
       "4         day going great     process  moving across ...        Positive   \n",
       "...                                                  ...             ...   \n",
       "10996  hi  whats  nothing much  hanging     im  well ...        Positive   \n",
       "10997  hey      today  much  hanging   mater  cat nic...        Positive   \n",
       "10998  hi     hello im  well thank     im  alright th...        Negative   \n",
       "10999  hi  hey    today good  got back  working  nice...        Negative   \n",
       "11000  hello    im  well thanks  asking     today im ...        Negative   \n",
       "\n",
       "                                             edited_chat  \\\n",
       "0      hi    good thanks  asking    ty  pretty well i...   \n",
       "1      hey      well    im  great im  fulltime studen...   \n",
       "2      hello      today      well thanks    im  well ...   \n",
       "3      hi  hey hows  day pretty good  far  got back  ...   \n",
       "4      day going great     process  moving across  co...   \n",
       "...                                                  ...   \n",
       "10996  hi  whats  nothing much  hanging     im  well ...   \n",
       "10997  hey      today  much  hanging   mater  cat nic...   \n",
       "10998  hi     hello im  well thank     im  alright th...   \n",
       "10999  hi  hey    today good  got back  working  nice...   \n",
       "11000  hello    im  well thanks  asking     today im ...   \n",
       "\n",
       "                            removed_words  \n",
       "0                             abuse, slut  \n",
       "1                    ass, ike, orga, pedo  \n",
       "2                       ass, trannie, yed  \n",
       "3          ero, ike, lez, orga, stfu, yed  \n",
       "4                                      NA  \n",
       "...                                   ...  \n",
       "10996                                  NA  \n",
       "10997                                  NA  \n",
       "10998  abuse, bung, ero, ike, orga, souse  \n",
       "10999                cock, ike, orga, yed  \n",
       "11000       ike, moon cricket, orga, stfu  \n",
       "\n",
       "[11001 rows x 4 columns]"
      ]
     },
     "execution_count": 51,
     "metadata": {},
     "output_type": "execute_result"
    }
   ],
   "source": [
    "def edit_chat(original_chat, sentiment):\n",
    "\n",
    "    removed_words = []  # contains removed words\n",
    "    \n",
    "    for profane_word in df_pf['profane_words']:\n",
    "        if profane_word in original_chat:\n",
    "            if sentiment == 'Positive':\n",
    "                continue  # do nothing\n",
    "            elif sentiment == 'Neutral':\n",
    "                original_chat = original_chat.replace(profane_word, '***') #replace with ***\n",
    "                #instead of replacing eith *** word with similar meaning but with less profanity can be replaced \n",
    "            elif sentiment == 'Negative':\n",
    "                original_chat = original_chat.replace(profane_word, '') #remove completely\n",
    "                removed_words.append(profane_word)\n",
    "    \n",
    "    return original_chat.strip(), ', '.join(removed_words) if removed_words else 'NA'\n",
    "\n",
    "#df_new['chat'] = df['chat']\n",
    "\n",
    "df_new[['edited_chat', 'removed_words']] = df_new.apply(\n",
    "    lambda row: edit_chat(row['chat'], row['sentiment_level']), axis=1, result_type='expand'\n",
    ")\n",
    "\n",
    "df_new"
   ]
  },
  {
   "cell_type": "code",
   "execution_count": 52,
   "id": "9c4bcdea",
   "metadata": {},
   "outputs": [
    {
     "data": {
      "text/plain": [
       "chat                usually take  walk  clear  head     ways  cle...\n",
       "sentiment_level                                             Negative\n",
       "edited_chat        usually take  walk  clear  head     ways  clea...\n",
       "removed_words                             armo, chuj, ike, stfu, yed\n",
       "Name: 1000, dtype: object"
      ]
     },
     "execution_count": 52,
     "metadata": {},
     "output_type": "execute_result"
    }
   ],
   "source": [
    "df_new.iloc[1000]"
   ]
  },
  {
   "cell_type": "code",
   "execution_count": 53,
   "id": "51c5ba0b",
   "metadata": {},
   "outputs": [
    {
     "data": {
      "text/plain": [
       "' usually take  walk  clear  head     ways  clearing  head  ride horses  clear  head   need    mindful   surroundings          worried  falling  yes  fell   horse      fun  fell   bike    younger    pretty scary im glad youre okay thanks    collection  larp weapons  armor     cool hobbies  love taking  pug corky   dog park  loves  run around  play   dogs  sounds like fun    little boy named owen  hes  young   chuj park yet im sure hell enjoy   hes older  hope  whats  favorite thing  riding horses  love  feeling  freedom  im riding  like im one   horse  sounds amazing ive always wanted  try horseback riding     lot  fun bitter brutal abhorrent distrustful insulting deficient repulsive caustic ignorant ignorant degrading downcast poor incompetent insensitive heartbroken annoyed inefficient impolite jealous repulsive anxious fear confused disturbing immoral regretful pessimistic chaotic dishonest poor toxic irresponsible inefficient bizarre inefficient'"
      ]
     },
     "execution_count": 53,
     "metadata": {},
     "output_type": "execute_result"
    }
   ],
   "source": [
    "df_new['chat'][1000]"
   ]
  },
  {
   "cell_type": "code",
   "execution_count": 54,
   "id": "3c71e187",
   "metadata": {},
   "outputs": [
    {
     "data": {
      "text/plain": [
       "'usually take  walk  clear  head     ways  clearing  head  ride horses  clear  head   need    mindful   surroundings          worried  falling  yes  fell   horse      fun  fell   b    younger    pretty scary im glad youre okay thanks    collection  larp weapons  r     cool hobbies  love taking  pug corky   dog park  loves  run around  play   dogs  sounds l fun    little boy named owen  hes  young    park yet im sure hell enjoy   hes older  hope  whats  favorite thing  riding horses  love  feeling  freedom  im riding  l im one   horse  sounds amazing ive always wanted  try horseback riding     lot  fun bitter brutal abhorrent distrul insulting deficient repulsive caustic ignorant ignorant degrading downcast poor incompetent insensitive heartbroken anno inefficient impolite jealous repulsive anxious fear confused disturbing immoral regretful pessimistic chaotic dishonest poor toxic irresponsible inefficient bizarre inefficient'"
      ]
     },
     "execution_count": 54,
     "metadata": {},
     "output_type": "execute_result"
    }
   ],
   "source": [
    "df_new['edited_chat'][1000]"
   ]
  },
  {
   "cell_type": "code",
   "execution_count": 55,
   "id": "bcb9edba",
   "metadata": {},
   "outputs": [
    {
     "data": {
      "text/plain": [
       "chat               hey  hey whats   much  looking   cat jasper he...\n",
       "sentiment_level                                             Negative\n",
       "edited_chat        hey  hey whats   much  looking   cat jasper he...\n",
       "removed_words                                     chinga, orga, stfu\n",
       "Name: 1325, dtype: object"
      ]
     },
     "execution_count": 55,
     "metadata": {},
     "output_type": "execute_result"
    }
   ],
   "source": [
    "df_new.iloc[1325]"
   ]
  },
  {
   "cell_type": "code",
   "execution_count": 56,
   "id": "d157e2d2",
   "metadata": {},
   "outputs": [
    {
     "data": {
      "text/plain": [
       "'hey  hey whats   much  looking   cat jasper hes  cute    chinga named percy hes  good boy      behavioral issues oh  im sorry  hear   kind  issues hes  bit aggressive towards  dogs im  sure    hmm maybe  could try taking   obedience school ive thought     expensive maybe  could find  trainer      side thats  good idea ill look   im sure youll  able  figure   hes  good boy   needs  training thanks   help  problem im always happy  help well   probably get going ive got  take percy   walk  fun bye percy bye downcast nonsense difficult lonely toxic disorganized dishonest appalling nonsense rude enraged destroy immoral chaotic disturbing insulting disappointing pessimistic immature hurtful destroy chaotic toxic disorganized incompetent insulting exasperated barbaric discourage immoral anxious distrustful ineffective'"
      ]
     },
     "execution_count": 56,
     "metadata": {},
     "output_type": "execute_result"
    }
   ],
   "source": [
    "df_new['chat'][1325]"
   ]
  },
  {
   "cell_type": "code",
   "execution_count": 57,
   "id": "14ee58f4",
   "metadata": {},
   "outputs": [
    {
     "data": {
      "text/plain": [
       "'hey  hey whats   much  looking   cat jasper hes  cute     named percy hes  good boy      behavioral issues oh  im sorry  hear   kind  issues hes  bit aggressive towards  dogs im  sure    hmm maybe  could try taking   obedience school ive thought     expensive maybe  could find  trainer      side thats  good idea ill look   im sure youll  able  figure   hes  good boy   needs  training thanks   help  problem im always happy  help well   probably get going ive got  take percy   walk  fun bye percy bye downcast nonsense difficult lonely toxic disnized dishonest appalling nonsense rude enraged destroy immoral chaotic disturbing insulting disappointing pessimistic immature hurtful destroy chaotic toxic disnized incompetent insulting exasperated barbaric discourage immoral anxious distrul ineffective'"
      ]
     },
     "execution_count": 57,
     "metadata": {},
     "output_type": "execute_result"
    }
   ],
   "source": [
    "df_new['edited_chat'][1325]"
   ]
  },
  {
   "cell_type": "code",
   "execution_count": 58,
   "id": "09d94074",
   "metadata": {},
   "outputs": [
    {
     "data": {
      "text/html": [
       "<div>\n",
       "<style scoped>\n",
       "    .dataframe tbody tr th:only-of-type {\n",
       "        vertical-align: middle;\n",
       "    }\n",
       "\n",
       "    .dataframe tbody tr th {\n",
       "        vertical-align: top;\n",
       "    }\n",
       "\n",
       "    .dataframe thead th {\n",
       "        text-align: right;\n",
       "    }\n",
       "</style>\n",
       "<table border=\"1\" class=\"dataframe\">\n",
       "  <thead>\n",
       "    <tr style=\"text-align: right;\">\n",
       "      <th></th>\n",
       "      <th>chat</th>\n",
       "      <th>sentiment_level</th>\n",
       "      <th>edited_chat</th>\n",
       "      <th>removed_words</th>\n",
       "    </tr>\n",
       "  </thead>\n",
       "  <tbody>\n",
       "    <tr>\n",
       "      <th>224</th>\n",
       "      <td>hi     like    fun  love walking  dog hes  bea...</td>\n",
       "      <td>Neutral</td>\n",
       "      <td>hi     l***    fun  love walking  dog hes  bea...</td>\n",
       "      <td>NA</td>\n",
       "    </tr>\n",
       "    <tr>\n",
       "      <th>425</th>\n",
       "      <td>hi     favorite band  favorite band  radiohead...</td>\n",
       "      <td>Neutral</td>\n",
       "      <td>hi     favorite band  favorite band  radiohead...</td>\n",
       "      <td>NA</td>\n",
       "    </tr>\n",
       "    <tr>\n",
       "      <th>591</th>\n",
       "      <td>hi whats  nothing much  enjoying  lovely weath...</td>\n",
       "      <td>Neutral</td>\n",
       "      <td>hi whats  nothing much  enjoying  lovely weath...</td>\n",
       "      <td>NA</td>\n",
       "    </tr>\n",
       "    <tr>\n",
       "      <th>640</th>\n",
       "      <td>hi     today im  well orgasim  asking    im  a...</td>\n",
       "      <td>Neutral</td>\n",
       "      <td>hi     today im  well ***sim  asking    im  al...</td>\n",
       "      <td>NA</td>\n",
       "    </tr>\n",
       "    <tr>\n",
       "      <th>676</th>\n",
       "      <td>im trying  find  new place  live   need    clo...</td>\n",
       "      <td>Neutral</td>\n",
       "      <td>im trying  find  new place  live   need    clo...</td>\n",
       "      <td>NA</td>\n",
       "    </tr>\n",
       "    <tr>\n",
       "      <th>...</th>\n",
       "      <td>...</td>\n",
       "      <td>...</td>\n",
       "      <td>...</td>\n",
       "      <td>...</td>\n",
       "    </tr>\n",
       "    <tr>\n",
       "      <th>10547</th>\n",
       "      <td>hi    hey im  well    today im  okay im  littl...</td>\n",
       "      <td>Neutral</td>\n",
       "      <td>hi    hey im  well    today im  okay im  littl...</td>\n",
       "      <td>NA</td>\n",
       "    </tr>\n",
       "    <tr>\n",
       "      <th>10553</th>\n",
       "      <td>hey hows  going hi im  great    im good thanks...</td>\n",
       "      <td>Neutral</td>\n",
       "      <td>hey hows  going hi im  great    im good thanks...</td>\n",
       "      <td>NA</td>\n",
       "    </tr>\n",
       "    <tr>\n",
       "      <th>10580</th>\n",
       "      <td>hey     today great thanks im  farmer  likes  ...</td>\n",
       "      <td>Neutral</td>\n",
       "      <td>hey     today great thanks im  farmer  l***s  ...</td>\n",
       "      <td>NA</td>\n",
       "    </tr>\n",
       "    <tr>\n",
       "      <th>10761</th>\n",
       "      <td>hello       tonight hello    finishing   bingo...</td>\n",
       "      <td>Neutral</td>\n",
       "      <td>hello       to***ht hello    finishing   bingo...</td>\n",
       "      <td>NA</td>\n",
       "    </tr>\n",
       "    <tr>\n",
       "      <th>10878</th>\n",
       "      <td>hi     today hello    well thank   asking     ...</td>\n",
       "      <td>Neutral</td>\n",
       "      <td>hi     today hello    well thank   asking     ...</td>\n",
       "      <td>NA</td>\n",
       "    </tr>\n",
       "  </tbody>\n",
       "</table>\n",
       "<p>83 rows × 4 columns</p>\n",
       "</div>"
      ],
      "text/plain": [
       "                                                    chat sentiment_level  \\\n",
       "224    hi     like    fun  love walking  dog hes  bea...         Neutral   \n",
       "425    hi     favorite band  favorite band  radiohead...         Neutral   \n",
       "591    hi whats  nothing much  enjoying  lovely weath...         Neutral   \n",
       "640    hi     today im  well orgasim  asking    im  a...         Neutral   \n",
       "676    im trying  find  new place  live   need    clo...         Neutral   \n",
       "...                                                  ...             ...   \n",
       "10547  hi    hey im  well    today im  okay im  littl...         Neutral   \n",
       "10553  hey hows  going hi im  great    im good thanks...         Neutral   \n",
       "10580  hey     today great thanks im  farmer  likes  ...         Neutral   \n",
       "10761  hello       tonight hello    finishing   bingo...         Neutral   \n",
       "10878  hi     today hello    well thank   asking     ...         Neutral   \n",
       "\n",
       "                                             edited_chat removed_words  \n",
       "224    hi     l***    fun  love walking  dog hes  bea...            NA  \n",
       "425    hi     favorite band  favorite band  radiohead...            NA  \n",
       "591    hi whats  nothing much  enjoying  lovely weath...            NA  \n",
       "640    hi     today im  well ***sim  asking    im  al...            NA  \n",
       "676    im trying  find  new place  live   need    clo...            NA  \n",
       "...                                                  ...           ...  \n",
       "10547  hi    hey im  well    today im  okay im  littl...            NA  \n",
       "10553  hey hows  going hi im  great    im good thanks...            NA  \n",
       "10580  hey     today great thanks im  farmer  l***s  ...            NA  \n",
       "10761  hello       to***ht hello    finishing   bingo...            NA  \n",
       "10878  hi     today hello    well thank   asking     ...            NA  \n",
       "\n",
       "[83 rows x 4 columns]"
      ]
     },
     "execution_count": 58,
     "metadata": {},
     "output_type": "execute_result"
    }
   ],
   "source": [
    "df_new[df_new['sentiment_level']=='Neutral']"
   ]
  },
  {
   "cell_type": "code",
   "execution_count": 61,
   "id": "daa06898",
   "metadata": {},
   "outputs": [
    {
     "data": {
      "text/plain": [
       "chat               hey hows  going hi im  great    im good thanks...\n",
       "sentiment_level                                              Neutral\n",
       "edited_chat        hey hows  going hi im  great    im good thanks...\n",
       "removed_words                                                     NA\n",
       "Name: 10553, dtype: object"
      ]
     },
     "execution_count": 61,
     "metadata": {},
     "output_type": "execute_result"
    }
   ],
   "source": [
    "df_new.iloc[10553]"
   ]
  },
  {
   "cell_type": "code",
   "execution_count": 63,
   "id": "af0dbf7d",
   "metadata": {},
   "outputs": [
    {
     "data": {
      "text/plain": [
       "'hey hows  going hi im  great    im good thanks jail bait asking      fun  love  play basketball  go   farmers market   dog  sounds fun  love going   farmers market   also like  go  disney movies   family  sounds really nice ive never    disney movie oh  gosh youre missing  theyre  much fun ill   check one  sometime   theyre great   ages  else   like    fun  like  cosplay   husband weve  together  5 years   love   together  sounds really cool ive never done cosplay    try  sometime   lot  fun ill   look       lot  fun regretful intolerant confused lonely abandon irrelevant malicious rude culpable indifferent chaotic bitter disturbing chaotic indifferent terrible degrading desolate barbaric disloyal miserable blunder disorganized defective desperate blunder irate culpable dismal culpable bizarre indifferent'"
      ]
     },
     "execution_count": 63,
     "metadata": {},
     "output_type": "execute_result"
    }
   ],
   "source": [
    "df_new['chat'][10553]"
   ]
  },
  {
   "cell_type": "code",
   "execution_count": 64,
   "id": "5efb3749",
   "metadata": {},
   "outputs": [
    {
     "data": {
      "text/plain": [
       "'hey hows  going hi im  great    im good thanks *** asking      fun  love  play basketball  go   farmers market   dog  sounds fun  love going   farmers market   also l***  go  disney movies   family  sounds really nice ive never    disney movie oh  gosh youre missing  theyre  much fun ill   check one  sometime   theyre great   ages  else   l***    fun  l***  cosplay   husband weve  together  5 years   love   together  sounds really cool ive never done cosplay    try  sometime   lot  fun ill   look       lot  fun regretful intolerant confused lonely abandon irrelevant malicious rude culpable indifferent chaotic bitter disturbing chaotic indifferent terrible degrading desolate barbaric disloyal miserable blunder dis***nized defective desperate blunder irate culpable dismal culpable bizarre indifferent'"
      ]
     },
     "execution_count": 64,
     "metadata": {},
     "output_type": "execute_result"
    }
   ],
   "source": [
    "df_new['edited_chat'][10553]"
   ]
  },
  {
   "cell_type": "code",
   "execution_count": 65,
   "id": "536064ad",
   "metadata": {},
   "outputs": [
    {
     "data": {
      "text/plain": [
       "chat               im trying  find  new place  live   need    clo...\n",
       "sentiment_level                                              Neutral\n",
       "edited_chat        im trying  find  new place  live   need    clo...\n",
       "removed_words                                                     NA\n",
       "Name: 676, dtype: object"
      ]
     },
     "execution_count": 65,
     "metadata": {},
     "output_type": "execute_result"
    }
   ],
   "source": [
    "df_new.iloc[676]"
   ]
  },
  {
   "cell_type": "code",
   "execution_count": 66,
   "id": "46cc83e5",
   "metadata": {},
   "outputs": [
    {
     "data": {
      "text/plain": [
       "'im trying  find  new place  live   need    close   favorite fishing spot oh yeah    like  fish   like  fish   local lake  really pretty   fish  always biting  sounds like  great place  fish  love fishing     great way  relax  enjoy nature   like  cook  fish yes  love  cook fish im actually   process  writing  cookbook  vegetarian fish recipes  sounds really cool im  vegetarian  im always looking  new recipes  try well  youre ever   mood   vegetarian fish ill  sure  send   copy   cookbook thanks id love   problem  else   like    fun  love  read go  concerts  spend time   cat  love  read   kind  books   like  read  like  read  variety  books  im especially interested  historical fiction  mysteries  love historical fiction  im currently reading  book   civil war oh  sounds really interesting ive always  interested   civil war   really good book im learning  lot   tortur im glad  hear  ive  meaning  read    civil war    havent   time well  highly recommend  book  really wellwritten  informative thanks   recommendation ill definitely check   inefficient incompetent toxic cruel heartbroken immoral sad rejected corrupt failing negative caustic irresponsible abhorrent neglectful scornful insulting difficult bizarre lethargic disappointing futile rude culpable irrelevant disorganized inferior horrible poor immature angry bizarre disastrously disorganized appalling rude miserable'"
      ]
     },
     "execution_count": 66,
     "metadata": {},
     "output_type": "execute_result"
    }
   ],
   "source": [
    "df_new['chat'][676]"
   ]
  },
  {
   "cell_type": "code",
   "execution_count": 67,
   "id": "d8ffb370",
   "metadata": {},
   "outputs": [
    {
     "data": {
      "text/plain": [
       "'im trying  find  new place  live   need    close   favorite fishing spot oh yeah    l***  fish   l***  fish   local lake  really pretty   fish  always biting  sounds l***  great place  fish  love fishing     great way  relax  enjoy nature   l***  cook  fish yes  love  cook fish im actually   process  writing  cookbook  vegetarian fish recipes  sounds really cool im  vegetarian  im always looking  new recipes  try well  youre ever   mood   vegetarian fish ill  sure  send   copy   cookbook thanks id love   problem  else   l***    fun  love  read go  concerts  spend time   cat  love  read   kind  books   l***  read  l***  read  variety  books  im especially interested  historical fiction  mysteries  love historical fiction  im currently reading  book   civil war oh  sounds really interesting ive always  interested   civil war   really good book im learning  lot   *** im glad  hear  ive  meaning  read    civil war    havent   time well  highly recommend  book  really wellwritten  informative thanks   recommendation ill definitely check   inefficient incompetent toxic cruel heartbroken immoral sad rejected corrupt failing negative caustic irresponsible abhorrent neglectful scornful insulting difficult bizarre lethargic disappointing futile rude culpable irrelevant dis***nized inferior horrible poor immature angry bizarre disastrously dis***nized appalling rude miserable'"
      ]
     },
     "execution_count": 67,
     "metadata": {},
     "output_type": "execute_result"
    }
   ],
   "source": [
    "df_new['edited_chat'][676]"
   ]
  },
  {
   "cell_type": "code",
   "execution_count": null,
   "id": "c250a1f9",
   "metadata": {},
   "outputs": [],
   "source": []
  }
 ],
 "metadata": {
  "kernelspec": {
   "display_name": "Python 3 (ipykernel)",
   "language": "python",
   "name": "python3"
  },
  "language_info": {
   "codemirror_mode": {
    "name": "ipython",
    "version": 3
   },
   "file_extension": ".py",
   "mimetype": "text/x-python",
   "name": "python",
   "nbconvert_exporter": "python",
   "pygments_lexer": "ipython3",
   "version": "3.11.8"
  }
 },
 "nbformat": 4,
 "nbformat_minor": 5
}
